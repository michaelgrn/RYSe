{
 "cells": [
  {
   "cell_type": "code",
   "execution_count": 1,
   "metadata": {},
   "outputs": [],
   "source": [
    "import pickle\n",
    "import pandas as pd\n",
    "import numpy as np\n",
    "from sklearn.model_selection import cross_validate\n",
    "from sklearn.preprocessing import LabelEncoder, StandardScaler\n",
    "from sklearn.linear_model import LogisticRegression, LogisticRegressionCV\n",
    "from sklearn.pipeline import Pipeline\n",
    "from sklearn.model_selection import train_test_split\n",
    "from sklearn.metrics import accuracy_score\n",
    "from sklearn.ensemble import RandomForestClassifier\n",
    "from sklearn.pipeline import Pipeline\n",
    "from sklearn.preprocessing import StandardScaler, PowerTransformer\n",
    "from sklearn.metrics import accuracy_score\n",
    "from sklearn.metrics import confusion_matrix\n",
    "from sklearn.model_selection import GridSearchCV\n",
    "from tqdm import tqdm\n",
    "\n",
    "\n",
    "rng = np.random.RandomState(20210414)"
   ]
  },
  {
   "cell_type": "code",
   "execution_count": 2,
   "metadata": {},
   "outputs": [
    {
     "data": {
      "text/plain": [
       "0.0    31456\n",
       "1.0     7827\n",
       "Name: class, dtype: int64"
      ]
     },
     "execution_count": 2,
     "metadata": {},
     "output_type": "execute_result"
    }
   ],
   "source": [
    "SWCAll =  pickle.load( open( \"../FeatureExtraction/DataSets/SWCFeatures/SWCFeat.p\", \"rb\" ) )\n",
    "SWCAll['class'].value_counts()"
   ]
  },
  {
   "cell_type": "code",
   "execution_count": 3,
   "metadata": {},
   "outputs": [],
   "source": [
    "SWCAll =  pickle.load( open( \"../FeatureExtraction/DataSets/SWCFeatures/SWCFeat.p\", \"rb\" ) )\n",
    "\n",
    "train = SWCAll.sample(frac=0.80, random_state=rng)\n",
    "subTrain = train.sample(frac=0.80, random_state=rng)\n",
    "tuneMask = pd.Series(True, index=train.index)\n",
    "tuneMask[subTrain.index] = False\n",
    "tune = train[tuneMask].copy()"
   ]
  },
  {
   "cell_type": "code",
   "execution_count": 4,
   "metadata": {},
   "outputs": [
    {
     "data": {
      "text/plain": [
       "6285"
      ]
     },
     "execution_count": 4,
     "metadata": {},
     "output_type": "execute_result"
    }
   ],
   "source": [
    "len(tune)"
   ]
  },
  {
   "cell_type": "code",
   "execution_count": 5,
   "metadata": {},
   "outputs": [
    {
     "data": {
      "text/plain": [
       "['class',\n",
       " 'cc',\n",
       " 'cd',\n",
       " 'dt',\n",
       " 'ex',\n",
       " 'fw',\n",
       " 'in',\n",
       " 'jj',\n",
       " 'jjr',\n",
       " 'jjs',\n",
       " 'ls',\n",
       " 'md',\n",
       " 'nn',\n",
       " 'nnp',\n",
       " 'nnps',\n",
       " 'nns',\n",
       " 'pdt',\n",
       " 'pos',\n",
       " 'prp',\n",
       " 'rb',\n",
       " 'rbr',\n",
       " 'rbs',\n",
       " 'rp',\n",
       " 'sym',\n",
       " 'to',\n",
       " 'uh',\n",
       " 'vb',\n",
       " 'vbd',\n",
       " 'vbg',\n",
       " 'vbn',\n",
       " 'vbp',\n",
       " 'vbz',\n",
       " 'wdt',\n",
       " 'wp',\n",
       " 'wrb',\n",
       " 'nn nn',\n",
       " 'jj nn',\n",
       " 'nn nns',\n",
       " 'to vb',\n",
       " 'jj nns',\n",
       " 'jj to',\n",
       " 'nn in',\n",
       " 'nns in',\n",
       " 'in nn',\n",
       " 'dt nn',\n",
       " 'jj nn nn',\n",
       " 'nn nn nn',\n",
       " 'jj to vb',\n",
       " 'nn nn nns',\n",
       " 'to vb nn',\n",
       " ' Level0',\n",
       " ' Level1',\n",
       " ' Level2',\n",
       " ' Level3',\n",
       " ' Level4',\n",
       " ' Level5',\n",
       " ' Level6',\n",
       " ' Level7',\n",
       " ' MeanLevel',\n",
       " 'totalSyl',\n",
       " 'avgSyl',\n",
       " 'simWords',\n",
       " 'comWords',\n",
       " 'greatestSyl',\n",
       " 'leastSyl',\n",
       " 'numChars',\n",
       " 'numWords',\n",
       " 'avgLenWord',\n",
       " 'ld',\n",
       " 'ls1',\n",
       " 'ls2',\n",
       " 'vs1',\n",
       " 'vs2',\n",
       " 'cvs1',\n",
       " 'ndw',\n",
       " 'ttr',\n",
       " 'cttr',\n",
       " 'rttr',\n",
       " 'logttr',\n",
       " 'lv',\n",
       " 'vv1',\n",
       " 'svv1',\n",
       " 'cvv1',\n",
       " 'vv2',\n",
       " 'nv',\n",
       " 'adjv',\n",
       " 'numSpellingErrors',\n",
       " 'offByOne',\n",
       " 'kidsError',\n",
       " 'punct',\n",
       " 'casing',\n",
       " 'coreVocab',\n",
       " 'nonCoreVocab',\n",
       " 'vocabMin',\n",
       " 'vocabMax',\n",
       " 'queryComplexity',\n",
       " 'addVocab',\n",
       " 'SVEN',\n",
       " 'top250All',\n",
       " 'top250avgAll',\n",
       " 'top250avgNotAll',\n",
       " 'top250AllNA',\n",
       " 'top250avgAllNA',\n",
       " 'top250avgNotAllNA',\n",
       " 'top50bi',\n",
       " 'top50biAvg',\n",
       " 'top50biNot',\n",
       " 'top50biNA',\n",
       " 'top50biavgNA',\n",
       " 'top50biNotNA',\n",
       " 'tfidfAll',\n",
       " 'tfidf',\n",
       " 'tfidfNA',\n",
       " 'stopCount',\n",
       " 'com',\n",
       " 'net',\n",
       " 'org',\n",
       " 'edu',\n",
       " 'gov',\n",
       " 'http',\n",
       " 'AND',\n",
       " 'OR',\n",
       " 'quotes',\n",
       " 'inter',\n",
       " 'repeatClicks',\n",
       " 'clickDistance',\n",
       " 'meanClickPosition',\n",
       " 'numClicks',\n",
       " 'numClicksPerQuery',\n",
       " 'numQueries',\n",
       " 'timeClicks',\n",
       " 'uniqueQueries',\n",
       " 'allSameClicks',\n",
       " 'uniqueClicks',\n",
       " 'allSameQueries',\n",
       " 'queryDistance',\n",
       " 'timeQueries',\n",
       " 'repeatQueries']"
      ]
     },
     "execution_count": 5,
     "metadata": {},
     "output_type": "execute_result"
    }
   ],
   "source": [
    "subTrain.columns.tolist()"
   ]
  },
  {
   "cell_type": "code",
   "execution_count": 6,
   "metadata": {},
   "outputs": [],
   "source": [
    "feat = subTrain.columns.tolist()\n",
    "feat.remove('class')\n",
    "#feat.remove(' Sentences')\n",
    "# feat.remove('tfidfNA')\n",
    "# feat.remove('tfidf')\n",
    "# feat.remove('tfidfAll')\n",
    "featCols = feat\n",
    "outCol = 'class'\n",
    "\n",
    "subTrainX = subTrain[featCols]\n",
    "subTrainY = subTrain[outCol]\n",
    "tuneX = tune[featCols]\n",
    "tuneY = tune[outCol]"
   ]
  },
  {
   "cell_type": "code",
   "execution_count": 7,
   "metadata": {},
   "outputs": [
    {
     "data": {
      "text/plain": [
       "0.0    5077\n",
       "1.0    1208\n",
       "Name: class, dtype: int64"
      ]
     },
     "execution_count": 7,
     "metadata": {},
     "output_type": "execute_result"
    }
   ],
   "source": [
    "tune['class'].value_counts()"
   ]
  },
  {
   "cell_type": "code",
   "execution_count": 8,
   "metadata": {},
   "outputs": [
    {
     "name": "stderr",
     "output_type": "stream",
     "text": [
      "  1%|          | 1/160 [00:05<15:00,  5.66s/it]"
     ]
    },
    {
     "name": "stdout",
     "output_type": "stream",
     "text": [
      "50 True gini StandardScaler() 0.9406631762652705 968.0\n",
      "Tune TP: 968.0\n"
     ]
    },
    {
     "name": "stderr",
     "output_type": "stream",
     "text": [
      "\r",
      "  1%|▏         | 2/160 [00:11<14:47,  5.61s/it]"
     ]
    },
    {
     "name": "stdout",
     "output_type": "stream",
     "text": [
      "50 True gini  0.939235284785023 962.8\n"
     ]
    },
    {
     "name": "stderr",
     "output_type": "stream",
     "text": [
      "\r",
      "  2%|▏         | 3/160 [00:17<15:29,  5.92s/it]"
     ]
    },
    {
     "name": "stdout",
     "output_type": "stream",
     "text": [
      "50 True entropy StandardScaler() 0.9409804854831033 984.6\n",
      "Tune TP: 984.6\n"
     ]
    },
    {
     "name": "stderr",
     "output_type": "stream",
     "text": [
      "\r",
      "  2%|▎         | 4/160 [00:24<15:59,  6.15s/it]"
     ]
    },
    {
     "name": "stdout",
     "output_type": "stream",
     "text": [
      "50 True entropy  0.9409804854831033 980.2\n"
     ]
    },
    {
     "name": "stderr",
     "output_type": "stream",
     "text": [
      "\r",
      "  3%|▎         | 5/160 [00:33<18:05,  7.00s/it]"
     ]
    },
    {
     "name": "stdout",
     "output_type": "stream",
     "text": [
      "50 False gini StandardScaler() 0.9414564493098525 984.4\n"
     ]
    },
    {
     "name": "stderr",
     "output_type": "stream",
     "text": [
      "\r",
      "  4%|▍         | 6/160 [00:41<18:59,  7.40s/it]"
     ]
    },
    {
     "name": "stdout",
     "output_type": "stream",
     "text": [
      "50 False gini  0.9435189592257656 985.4\n",
      "Tune TP: 985.4\n"
     ]
    },
    {
     "name": "stderr",
     "output_type": "stream",
     "text": [
      "\r",
      "  4%|▍         | 7/160 [00:52<21:05,  8.27s/it]"
     ]
    },
    {
     "name": "stdout",
     "output_type": "stream",
     "text": [
      "50 False entropy StandardScaler() 0.9436776138346818 998.6\n",
      "Tune TP: 998.6\n"
     ]
    },
    {
     "name": "stderr",
     "output_type": "stream",
     "text": [
      "\r",
      "  5%|▌         | 8/160 [01:01<22:09,  8.75s/it]"
     ]
    },
    {
     "name": "stdout",
     "output_type": "stream",
     "text": [
      "50 False entropy  0.9438362684435982 1002.0\n",
      "Tune TP: 1002.0\n"
     ]
    },
    {
     "name": "stderr",
     "output_type": "stream",
     "text": [
      "\r",
      "  6%|▌         | 9/160 [01:13<24:13,  9.62s/it]"
     ]
    },
    {
     "name": "stdout",
     "output_type": "stream",
     "text": [
      "100 True gini StandardScaler() 0.9403458670474377 973.0\n"
     ]
    },
    {
     "name": "stderr",
     "output_type": "stream",
     "text": [
      "\r",
      "  6%|▋         | 10/160 [01:24<25:20, 10.14s/it]"
     ]
    },
    {
     "name": "stdout",
     "output_type": "stream",
     "text": [
      "100 True gini  0.9390766301761067 972.0\n"
     ]
    },
    {
     "name": "stderr",
     "output_type": "stream",
     "text": [
      "\r",
      "  7%|▋         | 11/160 [01:38<27:21, 11.02s/it]"
     ]
    },
    {
     "name": "stdout",
     "output_type": "stream",
     "text": [
      "100 True entropy StandardScaler() 0.9428843407901 986.6\n"
     ]
    },
    {
     "name": "stderr",
     "output_type": "stream",
     "text": [
      "\r",
      "  8%|▊         | 12/160 [01:50<28:02, 11.37s/it]"
     ]
    },
    {
     "name": "stdout",
     "output_type": "stream",
     "text": [
      "100 True entropy  0.9432016500079328 984.8\n"
     ]
    },
    {
     "name": "stderr",
     "output_type": "stream",
     "text": [
      "\r",
      "  8%|▊         | 13/160 [02:08<33:05, 13.51s/it]"
     ]
    },
    {
     "name": "stdout",
     "output_type": "stream",
     "text": [
      "100 False gini StandardScaler() 0.9435189592257656 989.8\n"
     ]
    },
    {
     "name": "stderr",
     "output_type": "stream",
     "text": [
      "\r",
      "  9%|▉         | 14/160 [02:23<34:02, 13.99s/it]"
     ]
    },
    {
     "name": "stdout",
     "output_type": "stream",
     "text": [
      "100 False gini  0.9454228145327622 993.4\n"
     ]
    },
    {
     "name": "stderr",
     "output_type": "stream",
     "text": [
      "\r",
      "  9%|▉         | 15/160 [02:46<39:44, 16.45s/it]"
     ]
    },
    {
     "name": "stdout",
     "output_type": "stream",
     "text": [
      "100 False entropy StandardScaler() 0.9466920514040933 1005.2\n",
      "Tune TP: 1005.2\n"
     ]
    },
    {
     "name": "stderr",
     "output_type": "stream",
     "text": [
      "\r",
      " 10%|█         | 16/160 [03:07<43:04, 17.95s/it]"
     ]
    },
    {
     "name": "stdout",
     "output_type": "stream",
     "text": [
      "100 False entropy  0.9454228145327622 1005.6\n",
      "Tune TP: 1005.6\n"
     ]
    },
    {
     "name": "stderr",
     "output_type": "stream",
     "text": [
      "\r",
      " 11%|█         | 17/160 [03:24<41:52, 17.57s/it]"
     ]
    },
    {
     "name": "stdout",
     "output_type": "stream",
     "text": [
      "150 True gini StandardScaler() 0.9406631762652705 974.0\n"
     ]
    },
    {
     "name": "stderr",
     "output_type": "stream",
     "text": [
      "\r",
      " 11%|█▏        | 18/160 [03:40<40:53, 17.28s/it]"
     ]
    },
    {
     "name": "stdout",
     "output_type": "stream",
     "text": [
      "150 True gini  0.9409804854831033 976.0\n"
     ]
    },
    {
     "name": "stderr",
     "output_type": "stream",
     "text": [
      "\r",
      " 12%|█▏        | 19/160 [04:04<45:12, 19.24s/it]"
     ]
    },
    {
     "name": "stdout",
     "output_type": "stream",
     "text": [
      "150 True entropy StandardScaler() 0.9414564493098525 980.0\n"
     ]
    },
    {
     "name": "stderr",
     "output_type": "stream",
     "text": [
      "\r",
      " 12%|█▎        | 20/160 [04:30<49:54, 21.39s/it]"
     ]
    },
    {
     "name": "stdout",
     "output_type": "stream",
     "text": [
      "150 True entropy  0.9416151039187688 983.8\n"
     ]
    },
    {
     "name": "stderr",
     "output_type": "stream",
     "text": [
      "\r",
      " 13%|█▎        | 21/160 [05:13<1:04:13, 27.72s/it]"
     ]
    },
    {
     "name": "stdout",
     "output_type": "stream",
     "text": [
      "150 False gini StandardScaler() 0.9424083769633508 993.0\n"
     ]
    },
    {
     "name": "stderr",
     "output_type": "stream",
     "text": [
      "\r",
      " 14%|█▍        | 22/160 [05:48<1:08:39, 29.85s/it]"
     ]
    },
    {
     "name": "stdout",
     "output_type": "stream",
     "text": [
      "150 False gini  0.944153577661431 994.0\n"
     ]
    },
    {
     "name": "stderr",
     "output_type": "stream",
     "text": [
      "\r",
      " 14%|█▍        | 23/160 [06:22<1:10:49, 31.02s/it]"
     ]
    },
    {
     "name": "stdout",
     "output_type": "stream",
     "text": [
      "150 False entropy StandardScaler() 0.9471680152308425 1010.0\n",
      "Tune TP: 1010.0\n"
     ]
    },
    {
     "name": "stderr",
     "output_type": "stream",
     "text": [
      "\r",
      " 15%|█▌        | 24/160 [06:53<1:10:42, 31.20s/it]"
     ]
    },
    {
     "name": "stdout",
     "output_type": "stream",
     "text": [
      "150 False entropy  0.9462160875773441 1006.6\n"
     ]
    },
    {
     "name": "stderr",
     "output_type": "stream",
     "text": [
      "\r",
      " 16%|█▌        | 25/160 [07:20<1:07:30, 30.01s/it]"
     ]
    },
    {
     "name": "stdout",
     "output_type": "stream",
     "text": [
      "200 True gini StandardScaler() 0.9401872124385213 973.2\n"
     ]
    },
    {
     "name": "stderr",
     "output_type": "stream",
     "text": [
      "\r",
      " 16%|█▋        | 26/160 [07:47<1:04:41, 28.96s/it]"
     ]
    },
    {
     "name": "stdout",
     "output_type": "stream",
     "text": [
      "200 True gini  0.9405045216563541 966.8\n"
     ]
    },
    {
     "name": "stderr",
     "output_type": "stream",
     "text": [
      "\r",
      " 17%|█▋        | 27/160 [08:16<1:04:25, 29.06s/it]"
     ]
    },
    {
     "name": "stdout",
     "output_type": "stream",
     "text": [
      "200 True entropy StandardScaler() 0.9424083769633508 985.6\n"
     ]
    },
    {
     "name": "stderr",
     "output_type": "stream",
     "text": [
      "\r",
      " 18%|█▊        | 28/160 [08:48<1:05:30, 29.77s/it]"
     ]
    },
    {
     "name": "stdout",
     "output_type": "stream",
     "text": [
      "200 True entropy  0.9419324131366016 986.8\n"
     ]
    },
    {
     "name": "stderr",
     "output_type": "stream",
     "text": [
      "\r",
      " 18%|█▊        | 29/160 [09:35<1:16:31, 35.05s/it]"
     ]
    },
    {
     "name": "stdout",
     "output_type": "stream",
     "text": [
      "200 False gini StandardScaler() 0.9439949230525146 994.2\n"
     ]
    },
    {
     "name": "stderr",
     "output_type": "stream",
     "text": [
      "\r",
      " 19%|█▉        | 30/160 [10:23<1:24:13, 38.87s/it]"
     ]
    },
    {
     "name": "stdout",
     "output_type": "stream",
     "text": [
      "200 False gini  0.9430429953990164 995.4\n"
     ]
    },
    {
     "name": "stderr",
     "output_type": "stream",
     "text": [
      "\r",
      " 19%|█▉        | 31/160 [11:19<1:34:56, 44.16s/it]"
     ]
    },
    {
     "name": "stdout",
     "output_type": "stream",
     "text": [
      "200 False entropy StandardScaler() 0.9460574329684277 1011.6\n",
      "Tune TP: 1011.6\n"
     ]
    },
    {
     "name": "stderr",
     "output_type": "stream",
     "text": [
      "\r",
      " 20%|██        | 32/160 [12:21<1:45:43, 49.56s/it]"
     ]
    },
    {
     "name": "stdout",
     "output_type": "stream",
     "text": [
      "200 False entropy  0.9466920514040933 1007.2\n"
     ]
    },
    {
     "name": "stderr",
     "output_type": "stream",
     "text": [
      "\r",
      " 21%|██        | 33/160 [13:09<1:43:51, 49.07s/it]"
     ]
    },
    {
     "name": "stdout",
     "output_type": "stream",
     "text": [
      "250 True gini StandardScaler() 0.9411391400920197 976.0\n"
     ]
    },
    {
     "name": "stderr",
     "output_type": "stream",
     "text": [
      "\r",
      " 21%|██▏       | 34/160 [14:05<1:47:04, 50.98s/it]"
     ]
    },
    {
     "name": "stdout",
     "output_type": "stream",
     "text": [
      "250 True gini  0.9408218308741869 973.0\n"
     ]
    },
    {
     "name": "stderr",
     "output_type": "stream",
     "text": [
      "\r",
      " 22%|██▏       | 35/160 [14:52<1:43:34, 49.71s/it]"
     ]
    },
    {
     "name": "stdout",
     "output_type": "stream",
     "text": [
      "250 True entropy StandardScaler() 0.9427256861811836 983.4\n"
     ]
    },
    {
     "name": "stderr",
     "output_type": "stream",
     "text": [
      "\r",
      " 22%|██▎       | 36/160 [15:48<1:46:51, 51.70s/it]"
     ]
    },
    {
     "name": "stdout",
     "output_type": "stream",
     "text": [
      "250 True entropy  0.9427256861811836 984.4\n"
     ]
    },
    {
     "name": "stderr",
     "output_type": "stream",
     "text": [
      "\r",
      " 23%|██▎       | 37/160 [17:10<2:04:52, 60.92s/it]"
     ]
    },
    {
     "name": "stdout",
     "output_type": "stream",
     "text": [
      "250 False gini StandardScaler() 0.9439949230525146 992.0\n"
     ]
    },
    {
     "name": "stderr",
     "output_type": "stream",
     "text": [
      "\r",
      " 24%|██▍       | 38/160 [18:50<2:27:28, 72.53s/it]"
     ]
    },
    {
     "name": "stdout",
     "output_type": "stream",
     "text": [
      "250 False gini  0.9451055053149294 997.6\n"
     ]
    },
    {
     "name": "stderr",
     "output_type": "stream",
     "text": [
      "\r",
      " 24%|██▍       | 39/160 [20:11<2:31:22, 75.06s/it]"
     ]
    },
    {
     "name": "stdout",
     "output_type": "stream",
     "text": [
      "250 False entropy StandardScaler() 0.9452641599238458 1009.8\n"
     ]
    },
    {
     "name": "stderr",
     "output_type": "stream",
     "text": [
      "\r",
      " 25%|██▌       | 40/160 [21:22<2:27:49, 73.91s/it]"
     ]
    },
    {
     "name": "stdout",
     "output_type": "stream",
     "text": [
      "250 False entropy  0.9471680152308425 1012.0\n",
      "Tune TP: 1012.0\n"
     ]
    },
    {
     "name": "stderr",
     "output_type": "stream",
     "text": [
      "\r",
      " 26%|██▌       | 41/160 [23:10<2:46:48, 84.11s/it]"
     ]
    },
    {
     "name": "stdout",
     "output_type": "stream",
     "text": [
      "300 True gini StandardScaler() 0.9403458670474377 966.6\n"
     ]
    },
    {
     "name": "stderr",
     "output_type": "stream",
     "text": [
      "\r",
      " 26%|██▋       | 42/160 [24:53<2:56:44, 89.86s/it]"
     ]
    },
    {
     "name": "stdout",
     "output_type": "stream",
     "text": [
      "300 True gini  0.9416151039187688 973.2\n"
     ]
    },
    {
     "name": "stderr",
     "output_type": "stream",
     "text": [
      "\r",
      " 27%|██▋       | 43/160 [26:19<2:52:41, 88.56s/it]"
     ]
    },
    {
     "name": "stdout",
     "output_type": "stream",
     "text": [
      "300 True entropy StandardScaler() 0.9436776138346818 986.0\n"
     ]
    },
    {
     "name": "stderr",
     "output_type": "stream",
     "text": [
      "\r",
      " 28%|██▊       | 44/160 [27:46<2:50:27, 88.17s/it]"
     ]
    },
    {
     "name": "stdout",
     "output_type": "stream",
     "text": [
      "300 True entropy  0.9424083769633508 985.4\n"
     ]
    },
    {
     "name": "stderr",
     "output_type": "stream",
     "text": [
      "\r",
      " 28%|██▊       | 45/160 [29:48<3:08:09, 98.17s/it]"
     ]
    },
    {
     "name": "stdout",
     "output_type": "stream",
     "text": [
      "300 False gini StandardScaler() 0.9425670315722672 996.2\n"
     ]
    },
    {
     "name": "stderr",
     "output_type": "stream",
     "text": [
      "\r",
      " 29%|██▉       | 46/160 [31:49<3:19:39, 105.08s/it]"
     ]
    },
    {
     "name": "stdout",
     "output_type": "stream",
     "text": [
      "300 False gini  0.944946850706013 998.4\n"
     ]
    },
    {
     "name": "stderr",
     "output_type": "stream",
     "text": [
      "\r",
      " 29%|██▉       | 47/160 [33:14<3:06:25, 98.99s/it] "
     ]
    },
    {
     "name": "stdout",
     "output_type": "stream",
     "text": [
      "300 False entropy StandardScaler() 0.9465333967951769 1012.4\n",
      "Tune TP: 1012.4\n"
     ]
    },
    {
     "name": "stderr",
     "output_type": "stream",
     "text": [
      "\r",
      " 30%|███       | 48/160 [34:32<2:53:02, 92.70s/it]"
     ]
    },
    {
     "name": "stdout",
     "output_type": "stream",
     "text": [
      "300 False entropy  0.9484372521021736 1015.0\n",
      "Tune TP: 1015.0\n"
     ]
    },
    {
     "name": "stderr",
     "output_type": "stream",
     "text": [
      "\r",
      " 31%|███       | 49/160 [35:28<2:31:11, 81.72s/it]"
     ]
    },
    {
     "name": "stdout",
     "output_type": "stream",
     "text": [
      "350 True gini StandardScaler() 0.9405045216563541 973.6\n"
     ]
    },
    {
     "name": "stderr",
     "output_type": "stream",
     "text": [
      "\r",
      " 31%|███▏      | 50/160 [36:22<2:14:57, 73.61s/it]"
     ]
    },
    {
     "name": "stdout",
     "output_type": "stream",
     "text": [
      "350 True gini  0.9406631762652705 971.8\n"
     ]
    },
    {
     "name": "stderr",
     "output_type": "stream",
     "text": [
      "\r",
      " 32%|███▏      | 51/160 [37:22<2:06:03, 69.39s/it]"
     ]
    },
    {
     "name": "stdout",
     "output_type": "stream",
     "text": [
      "350 True entropy StandardScaler() 0.942091067745518 984.6\n"
     ]
    },
    {
     "name": "stderr",
     "output_type": "stream",
     "text": [
      "\r",
      " 32%|███▎      | 52/160 [38:19<1:58:22, 65.77s/it]"
     ]
    },
    {
     "name": "stdout",
     "output_type": "stream",
     "text": [
      "350 True entropy  0.942091067745518 986.6\n"
     ]
    },
    {
     "name": "stderr",
     "output_type": "stream",
     "text": [
      "\r",
      " 33%|███▎      | 53/160 [39:41<2:05:37, 70.45s/it]"
     ]
    },
    {
     "name": "stdout",
     "output_type": "stream",
     "text": [
      "350 False gini StandardScaler() 0.944153577661431 996.8\n"
     ]
    },
    {
     "name": "stderr",
     "output_type": "stream",
     "text": [
      "\r",
      " 34%|███▍      | 54/160 [41:00<2:09:22, 73.23s/it]"
     ]
    },
    {
     "name": "stdout",
     "output_type": "stream",
     "text": [
      "350 False gini  0.9447881960970966 997.6\n"
     ]
    },
    {
     "name": "stderr",
     "output_type": "stream",
     "text": [
      "\r",
      " 34%|███▍      | 55/160 [42:32<2:17:36, 78.64s/it]"
     ]
    },
    {
     "name": "stdout",
     "output_type": "stream",
     "text": [
      "350 False entropy StandardScaler() 0.9471680152308425 1012.2\n"
     ]
    },
    {
     "name": "stderr",
     "output_type": "stream",
     "text": [
      "\r",
      " 35%|███▌      | 56/160 [45:00<2:52:28, 99.50s/it]"
     ]
    },
    {
     "name": "stdout",
     "output_type": "stream",
     "text": [
      "350 False entropy  0.9479612882754244 1011.8\n"
     ]
    },
    {
     "name": "stderr",
     "output_type": "stream",
     "text": [
      "\r",
      " 36%|███▌      | 57/160 [46:52<2:57:13, 103.23s/it]"
     ]
    },
    {
     "name": "stdout",
     "output_type": "stream",
     "text": [
      "400 True gini StandardScaler() 0.9409804854831033 970.8\n"
     ]
    },
    {
     "name": "stderr",
     "output_type": "stream",
     "text": [
      "\r",
      " 36%|███▋      | 58/160 [48:37<2:56:23, 103.76s/it]"
     ]
    },
    {
     "name": "stdout",
     "output_type": "stream",
     "text": [
      "400 True gini  0.9409804854831033 973.6\n"
     ]
    },
    {
     "name": "stderr",
     "output_type": "stream",
     "text": [
      "\r",
      " 37%|███▋      | 59/160 [50:45<3:07:06, 111.15s/it]"
     ]
    },
    {
     "name": "stdout",
     "output_type": "stream",
     "text": [
      "400 True entropy StandardScaler() 0.9425670315722672 988.8\n"
     ]
    },
    {
     "name": "stderr",
     "output_type": "stream",
     "text": [
      "\r",
      " 38%|███▊      | 60/160 [52:34<3:03:53, 110.34s/it]"
     ]
    },
    {
     "name": "stdout",
     "output_type": "stream",
     "text": [
      "400 True entropy  0.9432016500079328 986.6\n"
     ]
    },
    {
     "name": "stderr",
     "output_type": "stream",
     "text": [
      "\r",
      " 38%|███▊      | 61/160 [55:31<3:35:11, 130.42s/it]"
     ]
    },
    {
     "name": "stdout",
     "output_type": "stream",
     "text": [
      "400 False gini StandardScaler() 0.9452641599238458 996.8\n"
     ]
    },
    {
     "name": "stderr",
     "output_type": "stream",
     "text": [
      "\r",
      " 39%|███▉      | 62/160 [58:22<3:52:57, 142.62s/it]"
     ]
    },
    {
     "name": "stdout",
     "output_type": "stream",
     "text": [
      "400 False gini  0.9452641599238458 997.6\n"
     ]
    },
    {
     "name": "stderr",
     "output_type": "stream",
     "text": [
      "\r",
      " 39%|███▉      | 63/160 [1:01:38<4:16:40, 158.77s/it]"
     ]
    },
    {
     "name": "stdout",
     "output_type": "stream",
     "text": [
      "400 False entropy StandardScaler() 0.9457401237505949 1010.8\n"
     ]
    },
    {
     "name": "stderr",
     "output_type": "stream",
     "text": [
      "\r",
      " 40%|████      | 64/160 [1:05:25<4:46:40, 179.17s/it]"
     ]
    },
    {
     "name": "stdout",
     "output_type": "stream",
     "text": [
      "400 False entropy  0.9474853244486753 1016.6\n",
      "Tune TP: 1016.6\n"
     ]
    },
    {
     "name": "stderr",
     "output_type": "stream",
     "text": [
      "\r",
      " 41%|████      | 65/160 [1:07:49<4:26:51, 168.54s/it]"
     ]
    },
    {
     "name": "stdout",
     "output_type": "stream",
     "text": [
      "450 True gini StandardScaler() 0.9417737585276852 971.4\n"
     ]
    },
    {
     "name": "stderr",
     "output_type": "stream",
     "text": [
      "\r",
      " 41%|████▏     | 66/160 [1:09:52<4:02:36, 154.86s/it]"
     ]
    },
    {
     "name": "stdout",
     "output_type": "stream",
     "text": [
      "450 True gini  0.9427256861811836 974.2\n"
     ]
    },
    {
     "name": "stderr",
     "output_type": "stream",
     "text": [
      "\r",
      " 42%|████▏     | 67/160 [1:12:04<3:49:27, 148.04s/it]"
     ]
    },
    {
     "name": "stdout",
     "output_type": "stream",
     "text": [
      "450 True entropy StandardScaler() 0.9416151039187688 983.4\n"
     ]
    },
    {
     "name": "stderr",
     "output_type": "stream",
     "text": [
      "\r",
      " 42%|████▎     | 68/160 [1:14:19<3:40:47, 144.00s/it]"
     ]
    },
    {
     "name": "stdout",
     "output_type": "stream",
     "text": [
      "450 True entropy  0.944153577661431 990.0\n"
     ]
    },
    {
     "name": "stderr",
     "output_type": "stream",
     "text": [
      "\r",
      " 43%|████▎     | 69/160 [1:17:46<4:07:29, 163.19s/it]"
     ]
    },
    {
     "name": "stdout",
     "output_type": "stream",
     "text": [
      "450 False gini StandardScaler() 0.9436776138346818 997.8\n"
     ]
    },
    {
     "name": "stderr",
     "output_type": "stream",
     "text": [
      "\r",
      " 44%|████▍     | 70/160 [1:22:01<4:45:56, 190.63s/it]"
     ]
    },
    {
     "name": "stdout",
     "output_type": "stream",
     "text": [
      "450 False gini  0.9454228145327622 999.0\n"
     ]
    },
    {
     "name": "stderr",
     "output_type": "stream",
     "text": [
      "\r",
      " 44%|████▍     | 71/160 [1:27:05<5:33:10, 224.61s/it]"
     ]
    },
    {
     "name": "stdout",
     "output_type": "stream",
     "text": [
      "450 False entropy StandardScaler() 0.9460574329684277 1013.4\n"
     ]
    },
    {
     "name": "stderr",
     "output_type": "stream",
     "text": [
      "\r",
      " 45%|████▌     | 72/160 [1:29:32<4:55:21, 201.38s/it]"
     ]
    },
    {
     "name": "stdout",
     "output_type": "stream",
     "text": [
      "450 False entropy  0.9460574329684277 1012.4\n"
     ]
    },
    {
     "name": "stderr",
     "output_type": "stream",
     "text": [
      "\r",
      " 46%|████▌     | 73/160 [1:31:06<4:05:18, 169.18s/it]"
     ]
    },
    {
     "name": "stdout",
     "output_type": "stream",
     "text": [
      "500 True gini StandardScaler() 0.9409804854831033 968.8\n"
     ]
    },
    {
     "name": "stderr",
     "output_type": "stream",
     "text": [
      "\r",
      " 46%|████▋     | 74/160 [1:32:28<3:24:55, 142.98s/it]"
     ]
    },
    {
     "name": "stdout",
     "output_type": "stream",
     "text": [
      "500 True gini  0.9414564493098525 975.0\n"
     ]
    },
    {
     "name": "stderr",
     "output_type": "stream",
     "text": [
      "\r",
      " 47%|████▋     | 75/160 [1:34:09<3:04:32, 130.26s/it]"
     ]
    },
    {
     "name": "stdout",
     "output_type": "stream",
     "text": [
      "500 True entropy StandardScaler() 0.9419324131366016 985.4\n"
     ]
    },
    {
     "name": "stderr",
     "output_type": "stream",
     "text": [
      "\r",
      " 48%|████▊     | 76/160 [1:36:00<2:54:26, 124.60s/it]"
     ]
    },
    {
     "name": "stdout",
     "output_type": "stream",
     "text": [
      "500 True entropy  0.9424083769633508 986.0\n"
     ]
    },
    {
     "name": "stderr",
     "output_type": "stream",
     "text": [
      "\r",
      " 48%|████▊     | 77/160 [1:39:08<3:18:42, 143.64s/it]"
     ]
    },
    {
     "name": "stdout",
     "output_type": "stream",
     "text": [
      "500 False gini StandardScaler() 0.9451055053149294 997.4\n"
     ]
    },
    {
     "name": "stderr",
     "output_type": "stream",
     "text": [
      "\r",
      " 49%|████▉     | 78/160 [1:41:08<3:06:32, 136.49s/it]"
     ]
    },
    {
     "name": "stdout",
     "output_type": "stream",
     "text": [
      "500 False gini  0.944153577661431 997.8\n"
     ]
    },
    {
     "name": "stderr",
     "output_type": "stream",
     "text": [
      "\r",
      " 49%|████▉     | 79/160 [1:43:14<3:00:08, 133.44s/it]"
     ]
    },
    {
     "name": "stdout",
     "output_type": "stream",
     "text": [
      "500 False entropy StandardScaler() 0.9463747421862605 1012.4\n"
     ]
    },
    {
     "name": "stderr",
     "output_type": "stream",
     "text": [
      "\r",
      " 50%|█████     | 80/160 [1:45:25<2:56:41, 132.52s/it]"
     ]
    },
    {
     "name": "stdout",
     "output_type": "stream",
     "text": [
      "500 False entropy  0.9471680152308425 1017.0\n",
      "Tune TP: 1017.0\n"
     ]
    },
    {
     "name": "stderr",
     "output_type": "stream",
     "text": [
      "\r",
      " 51%|█████     | 81/160 [1:45:34<2:05:42, 95.47s/it] "
     ]
    },
    {
     "name": "stdout",
     "output_type": "stream",
     "text": [
      "50 True gini StandardScaler() 0.9395525940028557 979.8\n"
     ]
    },
    {
     "name": "stderr",
     "output_type": "stream",
     "text": [
      "\r",
      " 51%|█████▏    | 82/160 [1:45:42<1:30:00, 69.24s/it]"
     ]
    },
    {
     "name": "stdout",
     "output_type": "stream",
     "text": [
      "50 True gini  0.9414564493098525 978.8\n"
     ]
    },
    {
     "name": "stderr",
     "output_type": "stream",
     "text": [
      "\r",
      " 52%|█████▏    | 83/160 [1:45:51<1:05:41, 51.19s/it]"
     ]
    },
    {
     "name": "stdout",
     "output_type": "stream",
     "text": [
      "50 True entropy StandardScaler() 0.9417737585276852 985.2\n"
     ]
    },
    {
     "name": "stderr",
     "output_type": "stream",
     "text": [
      "\r",
      " 52%|█████▎    | 84/160 [1:45:59<48:31, 38.31s/it]  "
     ]
    },
    {
     "name": "stdout",
     "output_type": "stream",
     "text": [
      "50 True entropy  0.9430429953990164 984.4\n"
     ]
    },
    {
     "name": "stderr",
     "output_type": "stream",
     "text": [
      "\r",
      " 53%|█████▎    | 85/160 [1:46:11<38:06, 30.49s/it]"
     ]
    },
    {
     "name": "stdout",
     "output_type": "stream",
     "text": [
      "50 False gini StandardScaler() 0.9443122322703474 1000.6\n"
     ]
    },
    {
     "name": "stderr",
     "output_type": "stream",
     "text": [
      "\r",
      " 54%|█████▍    | 86/160 [1:46:23<30:32, 24.77s/it]"
     ]
    },
    {
     "name": "stdout",
     "output_type": "stream",
     "text": [
      "50 False gini  0.9438362684435982 1004.8\n"
     ]
    },
    {
     "name": "stderr",
     "output_type": "stream",
     "text": [
      "\r",
      " 54%|█████▍    | 87/160 [1:46:35<25:42, 21.14s/it]"
     ]
    },
    {
     "name": "stdout",
     "output_type": "stream",
     "text": [
      "50 False entropy StandardScaler() 0.9452641599238458 1007.4\n"
     ]
    },
    {
     "name": "stderr",
     "output_type": "stream",
     "text": [
      "\r",
      " 55%|█████▌    | 88/160 [1:46:47<22:01, 18.36s/it]"
     ]
    },
    {
     "name": "stdout",
     "output_type": "stream",
     "text": [
      "50 False entropy  0.9425670315722672 999.0\n"
     ]
    },
    {
     "name": "stderr",
     "output_type": "stream",
     "text": [
      "\r",
      " 56%|█████▌    | 89/160 [1:47:04<21:01, 17.76s/it]"
     ]
    },
    {
     "name": "stdout",
     "output_type": "stream",
     "text": [
      "100 True gini StandardScaler() 0.9425670315722672 991.2\n"
     ]
    },
    {
     "name": "stderr",
     "output_type": "stream",
     "text": [
      "\r",
      " 56%|█████▋    | 90/160 [1:47:20<20:10, 17.29s/it]"
     ]
    },
    {
     "name": "stdout",
     "output_type": "stream",
     "text": [
      "100 True gini  0.944153577661431 985.8\n"
     ]
    },
    {
     "name": "stderr",
     "output_type": "stream",
     "text": [
      "\r",
      " 57%|█████▋    | 91/160 [1:47:37<19:45, 17.18s/it]"
     ]
    },
    {
     "name": "stdout",
     "output_type": "stream",
     "text": [
      "100 True entropy StandardScaler() 0.9433603046168492 992.4\n"
     ]
    },
    {
     "name": "stderr",
     "output_type": "stream",
     "text": [
      "\r",
      " 57%|█████▊    | 92/160 [1:47:53<19:08, 16.89s/it]"
     ]
    },
    {
     "name": "stdout",
     "output_type": "stream",
     "text": [
      "100 True entropy  0.9436776138346818 991.4\n"
     ]
    },
    {
     "name": "stderr",
     "output_type": "stream",
     "text": [
      "\r",
      " 58%|█████▊    | 93/160 [1:48:16<21:01, 18.82s/it]"
     ]
    },
    {
     "name": "stdout",
     "output_type": "stream",
     "text": [
      "100 False gini StandardScaler() 0.9474853244486753 1013.0\n"
     ]
    },
    {
     "name": "stderr",
     "output_type": "stream",
     "text": [
      "\r",
      " 59%|█████▉    | 94/160 [1:48:40<22:19, 20.29s/it]"
     ]
    },
    {
     "name": "stdout",
     "output_type": "stream",
     "text": [
      "100 False gini  0.9466920514040933 1012.4\n"
     ]
    },
    {
     "name": "stderr",
     "output_type": "stream",
     "text": [
      "\r",
      " 59%|█████▉    | 95/160 [1:49:04<23:14, 21.46s/it]"
     ]
    },
    {
     "name": "stdout",
     "output_type": "stream",
     "text": [
      "100 False entropy StandardScaler() 0.9452641599238458 1013.8\n"
     ]
    },
    {
     "name": "stderr",
     "output_type": "stream",
     "text": [
      "\r",
      " 60%|██████    | 96/160 [1:49:29<24:04, 22.57s/it]"
     ]
    },
    {
     "name": "stdout",
     "output_type": "stream",
     "text": [
      "100 False entropy  0.9471680152308425 1017.4\n",
      "Tune TP: 1017.4\n"
     ]
    },
    {
     "name": "stderr",
     "output_type": "stream",
     "text": [
      "\r",
      " 61%|██████    | 97/160 [1:49:54<24:16, 23.12s/it]"
     ]
    },
    {
     "name": "stdout",
     "output_type": "stream",
     "text": [
      "150 True gini StandardScaler() 0.9438362684435982 987.2\n"
     ]
    },
    {
     "name": "stderr",
     "output_type": "stream",
     "text": [
      "\r",
      " 61%|██████▏   | 98/160 [1:50:17<24:03, 23.28s/it]"
     ]
    },
    {
     "name": "stdout",
     "output_type": "stream",
     "text": [
      "150 True gini  0.9425670315722672 991.8\n"
     ]
    },
    {
     "name": "stderr",
     "output_type": "stream",
     "text": [
      "\r",
      " 62%|██████▏   | 99/160 [1:50:42<24:09, 23.76s/it]"
     ]
    },
    {
     "name": "stdout",
     "output_type": "stream",
     "text": [
      "150 True entropy StandardScaler() 0.9432016500079328 993.6\n"
     ]
    },
    {
     "name": "stderr",
     "output_type": "stream",
     "text": [
      "\r",
      " 62%|██████▎   | 100/160 [1:51:06<23:48, 23.80s/it]"
     ]
    },
    {
     "name": "stdout",
     "output_type": "stream",
     "text": [
      "150 True entropy  0.9409804854831033 988.8\n"
     ]
    },
    {
     "name": "stderr",
     "output_type": "stream",
     "text": [
      "\r",
      " 63%|██████▎   | 101/160 [1:51:40<26:27, 26.91s/it]"
     ]
    },
    {
     "name": "stdout",
     "output_type": "stream",
     "text": [
      "150 False gini StandardScaler() 0.9466920514040933 1009.4\n"
     ]
    },
    {
     "name": "stderr",
     "output_type": "stream",
     "text": [
      "\r",
      " 64%|██████▍   | 102/160 [1:52:14<27:56, 28.90s/it]"
     ]
    },
    {
     "name": "stdout",
     "output_type": "stream",
     "text": [
      "150 False gini  0.9468507060130097 1014.4\n"
     ]
    },
    {
     "name": "stderr",
     "output_type": "stream",
     "text": [
      "\r",
      " 64%|██████▍   | 103/160 [1:52:49<29:11, 30.73s/it]"
     ]
    },
    {
     "name": "stdout",
     "output_type": "stream",
     "text": [
      "150 False entropy StandardScaler() 0.9462160875773441 1015.4\n"
     ]
    },
    {
     "name": "stderr",
     "output_type": "stream",
     "text": [
      "\r",
      " 65%|██████▌   | 104/160 [1:53:24<29:49, 31.96s/it]"
     ]
    },
    {
     "name": "stdout",
     "output_type": "stream",
     "text": [
      "150 False entropy  0.9471680152308425 1015.4\n"
     ]
    },
    {
     "name": "stderr",
     "output_type": "stream",
     "text": [
      "\r",
      " 66%|██████▌   | 105/160 [1:53:56<29:18, 31.98s/it]"
     ]
    },
    {
     "name": "stdout",
     "output_type": "stream",
     "text": [
      "200 True gini StandardScaler() 0.9446295414881802 990.6\n"
     ]
    },
    {
     "name": "stderr",
     "output_type": "stream",
     "text": [
      "\r",
      " 66%|██████▋   | 106/160 [1:54:27<28:37, 31.80s/it]"
     ]
    },
    {
     "name": "stdout",
     "output_type": "stream",
     "text": [
      "200 True gini  0.9430429953990164 988.4\n"
     ]
    },
    {
     "name": "stderr",
     "output_type": "stream",
     "text": [
      "\r",
      " 67%|██████▋   | 107/160 [1:55:00<28:17, 32.03s/it]"
     ]
    },
    {
     "name": "stdout",
     "output_type": "stream",
     "text": [
      "200 True entropy StandardScaler() 0.9452641599238458 993.2\n"
     ]
    },
    {
     "name": "stderr",
     "output_type": "stream",
     "text": [
      "\r",
      " 68%|██████▊   | 108/160 [1:55:31<27:38, 31.89s/it]"
     ]
    },
    {
     "name": "stdout",
     "output_type": "stream",
     "text": [
      "200 True entropy  0.9436776138346818 996.2\n"
     ]
    },
    {
     "name": "stderr",
     "output_type": "stream",
     "text": [
      "\r",
      " 68%|██████▊   | 109/160 [1:56:17<30:39, 36.07s/it]"
     ]
    },
    {
     "name": "stdout",
     "output_type": "stream",
     "text": [
      "200 False gini StandardScaler() 0.947802633666508 1012.8\n"
     ]
    },
    {
     "name": "stderr",
     "output_type": "stream",
     "text": [
      "\r",
      " 69%|██████▉   | 110/160 [1:57:02<32:20, 38.82s/it]"
     ]
    },
    {
     "name": "stdout",
     "output_type": "stream",
     "text": [
      "200 False gini  0.9462160875773441 1015.2\n"
     ]
    },
    {
     "name": "stderr",
     "output_type": "stream",
     "text": [
      "\r",
      " 69%|██████▉   | 111/160 [1:57:49<33:36, 41.15s/it]"
     ]
    },
    {
     "name": "stdout",
     "output_type": "stream",
     "text": [
      "200 False entropy StandardScaler() 0.9479612882754244 1021.0\n",
      "Tune TP: 1021.0\n"
     ]
    },
    {
     "name": "stderr",
     "output_type": "stream",
     "text": [
      "\r",
      " 70%|███████   | 112/160 [1:58:35<34:03, 42.58s/it]"
     ]
    },
    {
     "name": "stdout",
     "output_type": "stream",
     "text": [
      "200 False entropy  0.9474853244486753 1019.4\n"
     ]
    },
    {
     "name": "stderr",
     "output_type": "stream",
     "text": [
      "\r",
      " 71%|███████   | 113/160 [1:59:15<32:44, 41.79s/it]"
     ]
    },
    {
     "name": "stdout",
     "output_type": "stream",
     "text": [
      "250 True gini StandardScaler() 0.9436776138346818 993.2\n"
     ]
    },
    {
     "name": "stderr",
     "output_type": "stream",
     "text": [
      "\r",
      " 71%|███████▏  | 114/160 [1:59:53<31:13, 40.72s/it]"
     ]
    },
    {
     "name": "stdout",
     "output_type": "stream",
     "text": [
      "250 True gini  0.9433603046168492 990.4\n"
     ]
    },
    {
     "name": "stderr",
     "output_type": "stream",
     "text": [
      "\r",
      " 72%|███████▏  | 115/160 [2:00:32<30:03, 40.08s/it]"
     ]
    },
    {
     "name": "stdout",
     "output_type": "stream",
     "text": [
      "250 True entropy StandardScaler() 0.9435189592257656 992.6\n"
     ]
    },
    {
     "name": "stderr",
     "output_type": "stream",
     "text": [
      "\r",
      " 72%|███████▎  | 116/160 [2:01:09<28:53, 39.41s/it]"
     ]
    },
    {
     "name": "stdout",
     "output_type": "stream",
     "text": [
      "250 True entropy  0.9454228145327622 994.0\n"
     ]
    },
    {
     "name": "stderr",
     "output_type": "stream",
     "text": [
      "\r",
      " 73%|███████▎  | 117/160 [2:02:05<31:46, 44.34s/it]"
     ]
    },
    {
     "name": "stdout",
     "output_type": "stream",
     "text": [
      "250 False gini StandardScaler() 0.9452641599238458 1014.0\n"
     ]
    },
    {
     "name": "stderr",
     "output_type": "stream",
     "text": [
      "\r",
      " 74%|███████▍  | 118/160 [2:03:01<33:29, 47.86s/it]"
     ]
    },
    {
     "name": "stdout",
     "output_type": "stream",
     "text": [
      "250 False gini  0.9470093606219261 1014.2\n"
     ]
    },
    {
     "name": "stderr",
     "output_type": "stream",
     "text": [
      "\r",
      " 74%|███████▍  | 119/160 [2:03:59<34:43, 50.82s/it]"
     ]
    },
    {
     "name": "stdout",
     "output_type": "stream",
     "text": [
      "250 False entropy StandardScaler() 0.9473266698397589 1019.6\n"
     ]
    },
    {
     "name": "stderr",
     "output_type": "stream",
     "text": [
      "\r",
      " 75%|███████▌  | 120/160 [2:04:56<35:02, 52.56s/it]"
     ]
    },
    {
     "name": "stdout",
     "output_type": "stream",
     "text": [
      "250 False entropy  0.9463747421862605 1016.6\n"
     ]
    },
    {
     "name": "stderr",
     "output_type": "stream",
     "text": [
      "\r",
      " 76%|███████▌  | 121/160 [2:05:42<33:01, 50.81s/it]"
     ]
    },
    {
     "name": "stdout",
     "output_type": "stream",
     "text": [
      "300 True gini StandardScaler() 0.9432016500079328 993.6\n"
     ]
    },
    {
     "name": "stderr",
     "output_type": "stream",
     "text": [
      "\r",
      " 76%|███████▋  | 122/160 [2:06:27<31:05, 49.10s/it]"
     ]
    },
    {
     "name": "stdout",
     "output_type": "stream",
     "text": [
      "300 True gini  0.9444708868792638 989.8\n"
     ]
    },
    {
     "name": "stderr",
     "output_type": "stream",
     "text": [
      "\r",
      " 77%|███████▋  | 123/160 [2:07:14<29:50, 48.39s/it]"
     ]
    },
    {
     "name": "stdout",
     "output_type": "stream",
     "text": [
      "300 True entropy StandardScaler() 0.9428843407901 994.2\n"
     ]
    },
    {
     "name": "stderr",
     "output_type": "stream",
     "text": [
      "\r",
      " 78%|███████▊  | 124/160 [2:08:00<28:38, 47.74s/it]"
     ]
    },
    {
     "name": "stdout",
     "output_type": "stream",
     "text": [
      "300 True entropy  0.9435189592257656 993.2\n"
     ]
    },
    {
     "name": "stderr",
     "output_type": "stream",
     "text": [
      "\r",
      " 78%|███████▊  | 125/160 [2:09:07<31:04, 53.27s/it]"
     ]
    },
    {
     "name": "stdout",
     "output_type": "stream",
     "text": [
      "300 False gini StandardScaler() 0.9458987783595113 1017.0\n"
     ]
    },
    {
     "name": "stderr",
     "output_type": "stream",
     "text": [
      "\r",
      " 79%|███████▉  | 126/160 [2:10:11<32:09, 56.74s/it]"
     ]
    },
    {
     "name": "stdout",
     "output_type": "stream",
     "text": [
      "300 False gini  0.9468507060130097 1014.6\n"
     ]
    },
    {
     "name": "stderr",
     "output_type": "stream",
     "text": [
      "\r",
      " 79%|███████▉  | 127/160 [2:11:19<32:57, 59.92s/it]"
     ]
    },
    {
     "name": "stdout",
     "output_type": "stream",
     "text": [
      "300 False entropy StandardScaler() 0.9482785974932572 1017.2\n"
     ]
    },
    {
     "name": "stderr",
     "output_type": "stream",
     "text": [
      "\r",
      " 80%|████████  | 128/160 [2:12:48<36:40, 68.77s/it]"
     ]
    },
    {
     "name": "stdout",
     "output_type": "stream",
     "text": [
      "300 False entropy  0.9476439790575916 1017.8\n"
     ]
    },
    {
     "name": "stderr",
     "output_type": "stream",
     "text": [
      "\r",
      " 81%|████████  | 129/160 [2:15:17<47:53, 92.68s/it]"
     ]
    },
    {
     "name": "stdout",
     "output_type": "stream",
     "text": [
      "350 True gini StandardScaler() 0.9424083769633508 991.6\n"
     ]
    },
    {
     "name": "stderr",
     "output_type": "stream",
     "text": [
      "\r",
      " 81%|████████▏ | 130/160 [2:17:21<51:07, 102.24s/it]"
     ]
    },
    {
     "name": "stdout",
     "output_type": "stream",
     "text": [
      "350 True gini  0.9438362684435982 990.6\n"
     ]
    },
    {
     "name": "stderr",
     "output_type": "stream",
     "text": [
      "\r",
      " 82%|████████▏ | 131/160 [2:18:34<45:11, 93.51s/it] "
     ]
    },
    {
     "name": "stdout",
     "output_type": "stream",
     "text": [
      "350 True entropy StandardScaler() 0.9425670315722672 993.8\n"
     ]
    },
    {
     "name": "stderr",
     "output_type": "stream",
     "text": [
      "\r",
      " 82%|████████▎ | 132/160 [2:20:32<47:04, 100.86s/it]"
     ]
    },
    {
     "name": "stdout",
     "output_type": "stream",
     "text": [
      "350 True entropy  0.9444708868792638 994.6\n"
     ]
    },
    {
     "name": "stderr",
     "output_type": "stream",
     "text": [
      "\r",
      " 83%|████████▎ | 133/160 [2:23:28<55:28, 123.28s/it]"
     ]
    },
    {
     "name": "stdout",
     "output_type": "stream",
     "text": [
      "350 False gini StandardScaler() 0.9470093606219261 1013.0\n"
     ]
    },
    {
     "name": "stderr",
     "output_type": "stream",
     "text": [
      "\r",
      " 84%|████████▍ | 134/160 [2:26:33<1:01:30, 141.94s/it]"
     ]
    },
    {
     "name": "stdout",
     "output_type": "stream",
     "text": [
      "350 False gini  0.9473266698397589 1017.0\n"
     ]
    },
    {
     "name": "stderr",
     "output_type": "stream",
     "text": [
      "\r",
      " 84%|████████▍ | 135/160 [2:29:15<1:01:37, 147.90s/it]"
     ]
    },
    {
     "name": "stdout",
     "output_type": "stream",
     "text": [
      "350 False entropy StandardScaler() 0.947802633666508 1019.4\n"
     ]
    },
    {
     "name": "stderr",
     "output_type": "stream",
     "text": [
      "\r",
      " 85%|████████▌ | 136/160 [2:32:05<1:01:44, 154.36s/it]"
     ]
    },
    {
     "name": "stdout",
     "output_type": "stream",
     "text": [
      "350 False entropy  0.9460574329684277 1014.8\n"
     ]
    },
    {
     "name": "stderr",
     "output_type": "stream",
     "text": [
      "\r",
      " 86%|████████▌ | 137/160 [2:35:37<1:05:47, 171.63s/it]"
     ]
    },
    {
     "name": "stdout",
     "output_type": "stream",
     "text": [
      "400 True gini StandardScaler() 0.9435189592257656 990.4\n"
     ]
    },
    {
     "name": "stderr",
     "output_type": "stream",
     "text": [
      "\r",
      " 86%|████████▋ | 138/160 [2:38:45<1:04:47, 176.69s/it]"
     ]
    },
    {
     "name": "stdout",
     "output_type": "stream",
     "text": [
      "400 True gini  0.9438362684435982 993.4\n"
     ]
    },
    {
     "name": "stderr",
     "output_type": "stream",
     "text": [
      "\r",
      " 87%|████████▋ | 139/160 [2:40:23<53:32, 152.96s/it]  "
     ]
    },
    {
     "name": "stdout",
     "output_type": "stream",
     "text": [
      "400 True entropy StandardScaler() 0.9433603046168492 991.0\n"
     ]
    },
    {
     "name": "stderr",
     "output_type": "stream",
     "text": [
      "\r",
      " 88%|████████▊ | 140/160 [2:41:36<42:58, 128.91s/it]"
     ]
    },
    {
     "name": "stdout",
     "output_type": "stream",
     "text": [
      "400 True entropy  0.9443122322703474 992.6\n"
     ]
    },
    {
     "name": "stderr",
     "output_type": "stream",
     "text": [
      "\r",
      " 88%|████████▊ | 141/160 [2:46:09<54:30, 172.14s/it]"
     ]
    },
    {
     "name": "stdout",
     "output_type": "stream",
     "text": [
      "400 False gini StandardScaler() 0.9465333967951769 1016.4\n"
     ]
    },
    {
     "name": "stderr",
     "output_type": "stream",
     "text": [
      "\r",
      " 89%|████████▉ | 142/160 [2:49:21<53:29, 178.33s/it]"
     ]
    },
    {
     "name": "stdout",
     "output_type": "stream",
     "text": [
      "400 False gini  0.9463747421862605 1013.4\n"
     ]
    },
    {
     "name": "stderr",
     "output_type": "stream",
     "text": [
      "\r",
      " 89%|████████▉ | 143/160 [2:51:28<46:08, 162.88s/it]"
     ]
    },
    {
     "name": "stdout",
     "output_type": "stream",
     "text": [
      "400 False entropy StandardScaler() 0.947802633666508 1021.0\n"
     ]
    },
    {
     "name": "stderr",
     "output_type": "stream",
     "text": [
      "\r",
      " 90%|█████████ | 144/160 [2:53:02<37:56, 142.29s/it]"
     ]
    },
    {
     "name": "stdout",
     "output_type": "stream",
     "text": [
      "400 False entropy  0.9465333967951769 1016.6\n"
     ]
    },
    {
     "name": "stderr",
     "output_type": "stream",
     "text": [
      "\r",
      " 91%|█████████ | 145/160 [2:54:44<32:29, 129.99s/it]"
     ]
    },
    {
     "name": "stdout",
     "output_type": "stream",
     "text": [
      "450 True gini StandardScaler() 0.9430429953990164 991.4\n"
     ]
    },
    {
     "name": "stderr",
     "output_type": "stream",
     "text": [
      "\r",
      " 91%|█████████▏| 146/160 [2:56:03<26:46, 114.76s/it]"
     ]
    },
    {
     "name": "stdout",
     "output_type": "stream",
     "text": [
      "450 True gini  0.942091067745518 992.4\n"
     ]
    },
    {
     "name": "stderr",
     "output_type": "stream",
     "text": [
      "\r",
      " 92%|█████████▏| 147/160 [2:57:27<22:52, 105.59s/it]"
     ]
    },
    {
     "name": "stdout",
     "output_type": "stream",
     "text": [
      "450 True entropy StandardScaler() 0.9443122322703474 995.0\n"
     ]
    },
    {
     "name": "stderr",
     "output_type": "stream",
     "text": [
      "\r",
      " 92%|█████████▎| 148/160 [3:00:06<24:17, 121.48s/it]"
     ]
    },
    {
     "name": "stdout",
     "output_type": "stream",
     "text": [
      "450 True entropy  0.9436776138346818 993.6\n"
     ]
    },
    {
     "name": "stderr",
     "output_type": "stream",
     "text": [
      "\r",
      " 93%|█████████▎| 149/160 [3:02:07<22:14, 121.31s/it]"
     ]
    },
    {
     "name": "stdout",
     "output_type": "stream",
     "text": [
      "450 False gini StandardScaler() 0.9474853244486753 1015.6\n"
     ]
    },
    {
     "name": "stderr",
     "output_type": "stream",
     "text": [
      "\r",
      " 94%|█████████▍| 150/160 [3:04:23<20:57, 125.71s/it]"
     ]
    },
    {
     "name": "stdout",
     "output_type": "stream",
     "text": [
      "450 False gini  0.9471680152308425 1014.6\n"
     ]
    },
    {
     "name": "stderr",
     "output_type": "stream",
     "text": [
      "\r",
      " 94%|█████████▍| 151/160 [3:06:31<18:57, 126.43s/it]"
     ]
    },
    {
     "name": "stdout",
     "output_type": "stream",
     "text": [
      "450 False entropy StandardScaler() 0.947802633666508 1019.2\n"
     ]
    },
    {
     "name": "stderr",
     "output_type": "stream",
     "text": [
      "\r",
      " 95%|█████████▌| 152/160 [3:08:31<16:36, 124.54s/it]"
     ]
    },
    {
     "name": "stdout",
     "output_type": "stream",
     "text": [
      "450 False entropy  0.9466920514040933 1021.2\n",
      "Tune TP: 1021.2\n"
     ]
    },
    {
     "name": "stderr",
     "output_type": "stream",
     "text": [
      "\r",
      " 96%|█████████▌| 153/160 [3:10:16<13:51, 118.75s/it]"
     ]
    },
    {
     "name": "stdout",
     "output_type": "stream",
     "text": [
      "500 True gini StandardScaler() 0.9424083769633508 993.4\n"
     ]
    },
    {
     "name": "stderr",
     "output_type": "stream",
     "text": [
      "\r",
      " 96%|█████████▋| 154/160 [3:11:54<11:16, 112.67s/it]"
     ]
    },
    {
     "name": "stdout",
     "output_type": "stream",
     "text": [
      "500 True gini  0.9433603046168492 993.4\n"
     ]
    },
    {
     "name": "stderr",
     "output_type": "stream",
     "text": [
      "\r",
      " 97%|█████████▋| 155/160 [3:13:47<09:23, 112.69s/it]"
     ]
    },
    {
     "name": "stdout",
     "output_type": "stream",
     "text": [
      "500 True entropy StandardScaler() 0.9425670315722672 992.0\n"
     ]
    },
    {
     "name": "stderr",
     "output_type": "stream",
     "text": [
      "\r",
      " 98%|█████████▊| 156/160 [3:15:37<07:27, 111.84s/it]"
     ]
    },
    {
     "name": "stdout",
     "output_type": "stream",
     "text": [
      "500 True entropy  0.9438362684435982 994.0\n"
     ]
    },
    {
     "name": "stderr",
     "output_type": "stream",
     "text": [
      "\r",
      " 98%|█████████▊| 157/160 [3:18:09<06:11, 123.86s/it]"
     ]
    },
    {
     "name": "stdout",
     "output_type": "stream",
     "text": [
      "500 False gini StandardScaler() 0.9466920514040933 1013.6\n"
     ]
    },
    {
     "name": "stderr",
     "output_type": "stream",
     "text": [
      "\r",
      " 99%|█████████▉| 158/160 [3:20:33<04:20, 130.02s/it]"
     ]
    },
    {
     "name": "stdout",
     "output_type": "stream",
     "text": [
      "500 False gini  0.9460574329684277 1015.2\n"
     ]
    },
    {
     "name": "stderr",
     "output_type": "stream",
     "text": [
      "\r",
      " 99%|█████████▉| 159/160 [3:22:53<02:12, 132.79s/it]"
     ]
    },
    {
     "name": "stdout",
     "output_type": "stream",
     "text": [
      "500 False entropy StandardScaler() 0.947802633666508 1021.0\n"
     ]
    },
    {
     "name": "stderr",
     "output_type": "stream",
     "text": [
      "100%|██████████| 160/160 [3:25:09<00:00, 76.93s/it] "
     ]
    },
    {
     "name": "stdout",
     "output_type": "stream",
     "text": [
      "500 False entropy  0.9470093606219261 1016.6\n"
     ]
    },
    {
     "name": "stderr",
     "output_type": "stream",
     "text": [
      "\n"
     ]
    }
   ],
   "source": [
    "##Average tp over each model numIts times\n",
    "\n",
    "numIts = 5\n",
    "numEstimatorParam = [50, 100, 150, 200, 250, 300, 350, 400, 450, 500]\n",
    "bootStrapParam = [True, False]\n",
    "criterionParam = ['gini', 'entropy']\n",
    "classWeightParam = ['None', 'balanced']\n",
    "scalers = [StandardScaler(), '']\n",
    "bestTP = 0\n",
    "bestTN = 0\n",
    "bestParam =\t{\n",
    "  \"numEstimators\": 0,\n",
    "  \"bootStrap\": False,\n",
    "  \"criterion\": \"\",\n",
    "  \"classWeight\" : \"\",\n",
    "  \"scaler\" : \"\"\n",
    "}\n",
    "length = (len(numEstimatorParam)*len(bootStrapParam)*len(criterionParam)\n",
    "          *len(classWeightParam)*len(scalers))\n",
    "with tqdm(total = length) as pbar:\n",
    "    for numE in numEstimatorParam:\n",
    "        for bS in bootStrapParam:\n",
    "            for c in criterionParam:\n",
    "                for scale in scalers:\n",
    "                    tpAvg = 0\n",
    "                    tnAvg = 0\n",
    "                    for x in range(numIts):\n",
    "                        if scale:\n",
    "                            tune_pipe = Pipeline([\n",
    "                                ('standardize', scale),\n",
    "                                ('classify', RandomForestClassifier(criterion = c, n_estimators=numE, bootstrap = bS, class_weight = 'balanced', n_jobs=-1, random_state = rng ))\n",
    "                            ])\n",
    "                        else:\n",
    "                            tune_pipe = Pipeline([\n",
    "                                ('classify', RandomForestClassifier(criterion = c, n_estimators=numE, bootstrap = bS, class_weight = 'balanced', n_jobs=-1, random_state = rng )) \n",
    "                            ])\n",
    "                        tune_pipe.fit(subTrainX, subTrainY)\n",
    "\n",
    "                        tuneAcc = accuracy_score(tuneY, tune_pipe.predict(tuneX))\n",
    "                        tn, fp, fn, tp = confusion_matrix(tuneY, tune_pipe.predict(tuneX)).ravel()\n",
    "                        tpAvg += tp\n",
    "                        tnAvg += tn\n",
    "                    tpAvg = tpAvg/numIts\n",
    "                    tnAvg = tnAvg/numIts\n",
    "                    print(numE, bS, c, scale, tuneAcc, tpAvg)\n",
    "                    if tpAvg > bestTP:\n",
    "                        bestTP = tpAvg\n",
    "                        bestTN = tnAvg\n",
    "                        bestParam[\"numEstimators\"] = numE\n",
    "                        bestParam[\"bootStrap\"] = bS\n",
    "                        bestParam[\"criterion\"] = c\n",
    "                        bestParam[\"classWeight\"] = 'balanced'\n",
    "                        bestParam[\"scaler\"] = scale\n",
    "                        print(\"Tune TP: \" + str(tpAvg))\n",
    "                    if tpAvg == bestTP:\n",
    "                        if tnAvg >bestTN:\n",
    "                            bestTP = tpAvg\n",
    "                            bestTN = tnAvg\n",
    "                            bestParam[\"numEstimators\"] = numE\n",
    "                            bestParam[\"bootStrap\"] = bS\n",
    "                            bestParam[\"criterion\"] = c\n",
    "                            bestParam[\"classWeight\"] = 'balanced'\n",
    "                            bestParam[\"scaler\"] = scale\n",
    "                            print(\"Tune TP: \" + str(tpAvg))\n",
    "                            print(\"Tune TN: \" + str(tnAvg))\n",
    "                    pbar.update()\n",
    "    for numE in numEstimatorParam:\n",
    "        for bS in bootStrapParam:\n",
    "            for c in criterionParam:\n",
    "                for scale in scalers:\n",
    "                    tpAvg = 0\n",
    "                    tnAvg = 0\n",
    "                    for x in range(numIts):\n",
    "                        if scale:\n",
    "                            tune_pipe = Pipeline([\n",
    "                                ('standardize', scale),\n",
    "                                ('classify', RandomForestClassifier(criterion = c, n_estimators=numE, bootstrap = bS, n_jobs=-1, random_state = rng))\n",
    "                            ])\n",
    "                        else:\n",
    "                            tune_pipe = Pipeline([\n",
    "                                 ('classify', RandomForestClassifier(criterion = c, n_estimators=numE, bootstrap = bS, n_jobs=-1, random_state = rng))\n",
    "                            ])\n",
    "                        tune_pipe.fit(subTrainX, subTrainY)\n",
    "\n",
    "                        tuneAcc = accuracy_score(tuneY, tune_pipe.predict(tuneX))\n",
    "                        tn, fp, fn, tp = confusion_matrix(tuneY, tune_pipe.predict(tuneX)).ravel()\n",
    "                        tpAvg += tp\n",
    "                        tnAvg += tn\n",
    "                    tpAvg = tpAvg/numIts\n",
    "                    tnAvg = tnAvg/numIts\n",
    "                    print(numE, bS, c, scale, tuneAcc, tpAvg)\n",
    "                    if tpAvg > bestTP:\n",
    "                        bestTP = tpAvg\n",
    "                        bestTN = tnAvg\n",
    "                        bestParam[\"numEstimators\"] = numE\n",
    "                        bestParam[\"bootStrap\"] = bS\n",
    "                        bestParam[\"criterion\"] = c\n",
    "                        bestParam[\"classWeight\"] = ''\n",
    "                        bestParam[\"scaler\"] = scale\n",
    "                        print(\"Tune TP: \" + str(tpAvg))\n",
    "                    if tpAvg == bestTP:\n",
    "                        if tnAvg >bestTN:\n",
    "                            bestTP = tpAvg\n",
    "                            bestTN = tnAvg\n",
    "                            bestParam[\"numEstimators\"] = numE\n",
    "                            bestParam[\"bootStrap\"] = bS\n",
    "                            bestParam[\"criterion\"] = c\n",
    "                            bestParam[\"classWeight\"] = ''\n",
    "                            bestParam[\"scaler\"] = scale\n",
    "                            print(\"Tune TP: \" + str(tpAvg))\n",
    "                            print(\"Tune TN: \" + str(tnAvg))\n",
    "                    pbar.update()"
   ]
  },
  {
   "cell_type": "code",
   "execution_count": 9,
   "metadata": {},
   "outputs": [
    {
     "data": {
      "text/plain": [
       "{'numEstimators': 450,\n",
       " 'bootStrap': False,\n",
       " 'criterion': 'entropy',\n",
       " 'classWeight': '',\n",
       " 'scaler': ''}"
      ]
     },
     "execution_count": 9,
     "metadata": {},
     "output_type": "execute_result"
    }
   ],
   "source": [
    "bestParam"
   ]
  },
  {
   "cell_type": "code",
   "execution_count": 8,
   "metadata": {},
   "outputs": [],
   "source": [
    "toRemove = tune.index.tolist()"
   ]
  },
  {
   "cell_type": "code",
   "execution_count": 9,
   "metadata": {},
   "outputs": [],
   "source": [
    "SWC = pickle.load( open( \"../Data/DataSets/SWC/SWC.p\", \"rb\" ) )\n",
    "SWCFeatNoTune = SWCAll.drop(tune.index)\n",
    "SWCNoTune = SWC[~SWC['sID'].isin(toRemove)]"
   ]
  },
  {
   "cell_type": "code",
   "execution_count": 10,
   "metadata": {},
   "outputs": [],
   "source": [
    "pickle.dump(SWCFeatNoTune, open( \"Pickles/SWCFeatNoTune.p\", \"wb\" ))\n",
    "pickle.dump(SWCNoTune, open( \"Pickles/SWCNoTune.p\", \"wb\" ))\n",
    "pickle.dump(bestParam, open( \"Pickles/BestParam.p\", \"wb\" ))"
   ]
  },
  {
   "cell_type": "code",
   "execution_count": null,
   "metadata": {},
   "outputs": [],
   "source": []
  }
 ],
 "metadata": {
  "kernelspec": {
   "display_name": "Python 3",
   "language": "python",
   "name": "python3"
  },
  "language_info": {
   "codemirror_mode": {
    "name": "ipython",
    "version": 3
   },
   "file_extension": ".py",
   "mimetype": "text/x-python",
   "name": "python",
   "nbconvert_exporter": "python",
   "pygments_lexer": "ipython3",
   "version": "3.7.9"
  }
 },
 "nbformat": 4,
 "nbformat_minor": 4
}
