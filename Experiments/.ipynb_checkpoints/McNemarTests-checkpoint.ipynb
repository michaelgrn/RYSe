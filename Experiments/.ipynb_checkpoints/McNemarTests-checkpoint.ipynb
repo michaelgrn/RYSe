{
 "cells": [
  {
   "cell_type": "markdown",
   "metadata": {},
   "source": [
    "# Load Libraries"
   ]
  },
  {
   "cell_type": "code",
   "execution_count": 1,
   "metadata": {},
   "outputs": [],
   "source": [
    "import pandas as pd\n",
    "import numpy as np\n",
    "import pickle\n",
    "\n",
    "from sklearn.metrics import confusion_matrix\n",
    "from statsmodels.stats.contingency_tables import mcnemar"
   ]
  },
  {
   "cell_type": "markdown",
   "metadata": {},
   "source": [
    "# Declare functions"
   ]
  },
  {
   "cell_type": "code",
   "execution_count": 2,
   "metadata": {},
   "outputs": [],
   "source": [
    "def TestSignifigance(resultsOne, resultsTwo, numFolds):\n",
    "    numSig = 0\n",
    "    sigValue = .05\n",
    "    for x in range(numFolds):\n",
    "        test = pd.DataFrame(data= resultsOne[x])\n",
    "        test2 = pd.DataFrame(data= resultsTwo[x])\n",
    "        conf = confusion_matrix(test, test2)\n",
    "        pValue = mcnemar(conf, exact=False, correction=False).pvalue\n",
    "        if pValue < sigValue:\n",
    "            numSig += 1\n",
    "    if numSig > 2:\n",
    "        return True\n",
    "    else:\n",
    "        return False\n"
   ]
  },
  {
   "cell_type": "markdown",
   "metadata": {},
   "source": [
    "# McNemar Ablation SWC"
   ]
  },
  {
   "cell_type": "code",
   "execution_count": 3,
   "metadata": {},
   "outputs": [],
   "source": [
    "ablationSigSWC = []\n",
    "\n",
    "outputAllRYSeSWC = pickle.load( open( \"Pickles/OutputAllRYSeSWC.p\", \"rb\" ) ) \n",
    "outputAllTextBasedSWC = pickle.load( open( \"Pickles/OutputAllTextBasedSWC.p\", \"rb\" ) ) \n",
    "outputAllSessionBasedSWC = pickle.load( open( \"Pickles/OutputAllSessionBasedSWC.p\", \"rb\" ) ) \n",
    "outputAllP3SWC = pickle.load( open( \"Pickles/OutputAllP3SWC.p\", \"rb\" ) ) \n",
    "outputAllDC1SWC  = pickle.load( open( \"Pickles/OutputAllDC1SWC.p\", \"rb\" ) ) \n",
    "\n",
    "sigRYSeSWC = False\n",
    "sigTextSWC = TestSignifigance(outputAllRYSeSWC,outputAllTextBasedSWC,5)\n",
    "sigSeshSWC = TestSignifigance(outputAllRYSeSWC,outputAllSessionBasedSWC,5)\n",
    "sigP3SWC = TestSignifigance(outputAllRYSeSWC,outputAllP3SWC,5)\n",
    "sigDC1SWC = TestSignifigance(outputAllRYSeSWC,outputAllDC1SWC,5)\n",
    "\n",
    "ablationSigSWC.append(sigRYSeSWC)\n",
    "ablationSigSWC.append(sigTextSWC)\n",
    "ablationSigSWC.append(sigSeshSWC)\n",
    "ablationSigSWC.append(sigP3SWC)\n",
    "ablationSigSWC.append(sigDC1SWC)\n",
    "\n",
    "pickle.dump(ablationSigSWC, open( \"Pickles/SigAblationSWC.p\", \"wb\"  ))"
   ]
  },
  {
   "cell_type": "markdown",
   "metadata": {},
   "source": [
    "# McNemar Ablation SQS"
   ]
  },
  {
   "cell_type": "code",
   "execution_count": 4,
   "metadata": {},
   "outputs": [],
   "source": [
    "ablationSigSQS = []\n",
    "\n",
    "outputAllRYSeSQS = pickle.load( open( \"Pickles/OutputAllRYSeSQS.p\", \"rb\" ) ) \n",
    "outputAllTextBasedSQS = pickle.load( open( \"Pickles/OutputAllTextBasedSQS.p\", \"rb\" ) ) \n",
    "outputAllSessionBasedSQS = pickle.load( open( \"Pickles/OutputAllSessionBasedSQS.p\", \"rb\" ) ) \n",
    "outputAllP3SQS = pickle.load( open( \"Pickles/OutputAllP3SQS.p\", \"rb\" ) ) \n",
    "outputAllDC1SQS  = pickle.load( open( \"Pickles/OutputAllDC1SQS.p\", \"rb\" ) ) \n",
    "\n",
    "sigRYSeSQS = False\n",
    "sigTextSQS = TestSignifigance(outputAllRYSeSQS,outputAllTextBasedSQS,5)\n",
    "sigSeshSQS = TestSignifigance(outputAllRYSeSQS,outputAllSessionBasedSQS,5)\n",
    "sigP3SQS = TestSignifigance(outputAllRYSeSQS,outputAllP3SQS,5)\n",
    "sigDC1SQS = TestSignifigance(outputAllRYSeSQS,outputAllDC1SQS,5)\n",
    "\n",
    "ablationSigSQS.append(sigRYSeSQS)\n",
    "ablationSigSQS.append(sigTextSQS)\n",
    "ablationSigSQS.append(sigSeshSQS)\n",
    "ablationSigSQS.append(sigP3SQS)\n",
    "ablationSigSQS.append(sigDC1SQS)\n",
    "\n",
    "pickle.dump(ablationSigSQS, open( \"Pickles/SigAblationSQS.p\", \"wb\"  ))"
   ]
  },
  {
   "cell_type": "markdown",
   "metadata": {},
   "source": [
    "# McNemar  Baselines SWC"
   ]
  },
  {
   "cell_type": "code",
   "execution_count": 5,
   "metadata": {},
   "outputs": [],
   "source": [
    "baselineSWC = []\n",
    "\n",
    "outputAllRYSeSWC = pickle.load( open( \"Pickles/OutputAllRYSeSWC.p\", \"rb\" ) ) \n",
    "outputMajoritySWC = pickle.load( open( \"Pickles/OutputMajoritySWC.p\", \"rb\" ) ) \n",
    "outputTextSWC = pickle.load( open( \"Pickles/OutputTextSWC.p\", \"rb\" ) ) \n",
    "outputRuleSWC = pickle.load( open( \"Pickles/OutputRuleSWC.p\", \"rb\" ) ) \n",
    "outputMultiFeatureSWC  = pickle.load( open( \"Pickles/OutputMultiFeatureSWC.p\", \"rb\" ) )\n",
    "outputMultiModelSWC  = pickle.load( open( \"Pickles/OutputMultiModelSWC.p\", \"rb\" ) )\n",
    "\n",
    "sigMajoritySWC = TestSignifigance(outputAllRYSeSWC,outputMajoritySWC,5)\n",
    "sigRuleSWC = TestSignifigance(outputAllRYSeSWC,outputRuleSWC,5)\n",
    "sigTextSWC = TestSignifigance(outputAllRYSeSWC,outputTextSWC,5)\n",
    "sigMultiFeatureSWC = TestSignifigance(outputAllRYSeSWC,outputMultiFeatureSWC,5)\n",
    "sigMultiModelSWC = TestSignifigance(outputAllRYSeSWC,outputMultiModelSWC,5)\n",
    "\n",
    "baselineSWC.append(sigMajoritySWC)\n",
    "baselineSWC.append(sigRuleSWC)\n",
    "baselineSWC.append(sigTextSWC)\n",
    "baselineSWC.append(sigMultiFeatureSWC)\n",
    "baselineSWC.append(sigMultiModelSWC)\n",
    "\n",
    "pickle.dump(baselineSWC, open( \"Pickles/SigBaselineSWC.p\", \"wb\"  ))"
   ]
  },
  {
   "cell_type": "markdown",
   "metadata": {},
   "source": [
    "# McNemar  Baselines SQS"
   ]
  },
  {
   "cell_type": "code",
   "execution_count": 7,
   "metadata": {},
   "outputs": [],
   "source": [
    "baselineSQS = []\n",
    "\n",
    "outputAllRYSeSQS = pickle.load( open( \"Pickles/OutputAllRYSeSQS.p\", \"rb\" ) ) \n",
    "outputMajoritySQS = pickle.load( open( \"Pickles/OutputMajoritySQS.p\", \"rb\" ) ) \n",
    "outputTextSQS = pickle.load( open( \"Pickles/OutputTextSQS.p\", \"rb\" ) ) \n",
    "outputRuleSQS = pickle.load( open( \"Pickles/OutputRuleSQS.p\", \"rb\" ) ) \n",
    "outputMultiFeatureSQS  = pickle.load( open( \"Pickles/OutputMultiFeatureSQS.p\", \"rb\" ) )\n",
    "outputMultiModelSQS  = pickle.load( open( \"Pickles/OutputMultiModelSQS.p\", \"rb\" ) )\n",
    "\n",
    "sigMajoritySQS = TestSignifigance(outputAllRYSeSQS,outputMajoritySQS,5)\n",
    "sigRuleSQS = TestSignifigance(outputAllRYSeSQS,outputRuleSQS,5)\n",
    "sigTextSQS = TestSignifigance(outputAllRYSeSQS,outputTextSQS,5)\n",
    "sigMultiFeatureSQS = TestSignifigance(outputAllRYSeSQS,outputMultiFeatureSQS,5)\n",
    "sigMultiModelSQS = TestSignifigance(outputAllRYSeSQS,outputMultiModelSQS,5)\n",
    "\n",
    "baselineSQS.append(sigMajoritySQS)\n",
    "baselineSQS.append(sigRuleSQS)\n",
    "baselineSQS.append(sigTextSQS)\n",
    "baselineSQS.append(sigMultiFeatureSQS)\n",
    "baselineSQS.append(sigMultiModelSQS)\n",
    "\n",
    "pickle.dump(baselineSQS, open( \"Pickles/SigBaselineSQS.p\", \"wb\"  ))"
   ]
  },
  {
   "cell_type": "markdown",
   "metadata": {},
   "source": [
    "# McNemar Number of Queries"
   ]
  },
  {
   "cell_type": "code",
   "execution_count": 8,
   "metadata": {},
   "outputs": [],
   "source": [
    "outputRYSeSWCQ = pickle.load( open( \"Pickles/OutputByQueryCount.p\", \"rb\" ) ) \n",
    "outputBBSWCQ = pickle.load( open( \"Pickles/OutputMultiModelSWCResByQ.p\", \"rb\" ) )\n",
    "\n",
    "sigByQ = []\n",
    "RYSeByQ = []\n",
    "MultiByQ = []\n",
    "for y in range(6):\n",
    "    RQ = []\n",
    "    MQ = []\n",
    "    for x in range(5):\n",
    "        RQ.append(outputRYSeSWCQ[x][y])\n",
    "        MQ.append(outputBBSWCQ[x][y])\n",
    "    RYSeByQ.append(RQ)\n",
    "    MultiByQ.append(MQ)\n",
    "    \n",
    "for y in range(6):\n",
    "    sigByQ.append(TestSignifigance(RYSeByQ[y],MultiByQ[y],5))\n",
    "    \n",
    "pickle.dump(sigByQ, open( \"Pickles/SigByQ.p\", \"wb\"  ))"
   ]
  }
 ],
 "metadata": {
  "kernelspec": {
   "display_name": "Python 3",
   "language": "python",
   "name": "python3"
  },
  "language_info": {
   "codemirror_mode": {
    "name": "ipython",
    "version": 3
   },
   "file_extension": ".py",
   "mimetype": "text/x-python",
   "name": "python",
   "nbconvert_exporter": "python",
   "pygments_lexer": "ipython3",
   "version": "3.7.9"
  }
 },
 "nbformat": 4,
 "nbformat_minor": 4
}
