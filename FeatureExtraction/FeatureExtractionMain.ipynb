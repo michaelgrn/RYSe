{
 "cells": [
  {
   "cell_type": "markdown",
   "metadata": {},
   "source": [
    "The code in this notebook combines all the extracted feature sets to allow for experimentation."
   ]
  },
  {
   "cell_type": "markdown",
   "metadata": {},
   "source": [
    "# Load Libraries"
   ]
  },
  {
   "cell_type": "code",
   "execution_count": 1,
   "metadata": {},
   "outputs": [],
   "source": [
    "import pickle\n",
    "import pandas as pd"
   ]
  },
  {
   "cell_type": "markdown",
   "metadata": {},
   "source": [
    "# Load Data Sets And Preprocess\n",
    "\n",
    "The following block of code loads up the two data sets and starts steps towards preprocessing them for our experiments."
   ]
  },
  {
   "cell_type": "code",
   "execution_count": 2,
   "metadata": {},
   "outputs": [],
   "source": [
    "SWC = pickle.load( open( \"../Data/DataSets/SWC/SWC.p\", \"rb\" ) )\n",
    "SQS = pickle.load( open( \"../Data/DataSets/SQS/SQS.p\", \"rb\" ) )\n",
    "\n",
    "SWC = SWC[['sID', 'query', 'type', 'class']]\n",
    "SQS = SQS[['sID', 'query', 'class']]"
   ]
  },
  {
   "cell_type": "markdown",
   "metadata": {},
   "source": [
    "# Load Extracted Features \n",
    "\n",
    "In the following block of code we load all feature sets before merging all the text based features into one dataframe before joining all feature sets together."
   ]
  },
  {
   "cell_type": "code",
   "execution_count": 3,
   "metadata": {},
   "outputs": [],
   "source": [
    "searchFeatSWC = pickle.load( open( \"Pickles/SearchFeatSWC.p\", \"rb\" ) )\n",
    "searchFeatSQS = pickle.load( open( \"Pickles/SearchFeatSQS.p\", \"rb\" ) )\n",
    "\n",
    "vocabFeat = pickle.load( open( \"Pickles/VocabFeat.p\", \"rb\" ) )\n",
    "lexFeat = pickle.load( open( \"Pickles/LexFeat.p\", \"rb\" ) )\n",
    "synFeat = pickle.load( open( \"Pickles/SynFeat.p\", \"rb\" ) )\n",
    "sPFeat = pickle.load( open( \"Pickles/SPFeat.p\", \"rb\" ) )\n",
    "\n",
    "textBasedFeat = sPFeat.merge(vocabFeat)\n",
    "textBasedFeat = textBasedFeat.merge(lexFeat)\n",
    "textBasedFeat = textBasedFeat.merge(synFeat)\n",
    "\n",
    "SWCAll = SWC.merge(textBasedFeat, how='inner', on='query')\n",
    "SWCAll = SWCAll[SWCAll['type'] == 'Q'].groupby('sID').mean()\n",
    "SWCAll = SWCAll.join(searchFeatSWC)\n",
    "\n",
    "SQSAll = SQS.merge(textBasedFeat, how='inner', on='query')\n",
    "SQSAll = SQSAll.set_index('sID')\n",
    "SQSAll = SQSAll.merge(searchFeatSQS)\n",
    "SQSAll = SQSAll.drop(columns = ['query'])"
   ]
  },
  {
   "cell_type": "markdown",
   "metadata": {},
   "source": [
    "# Return Aggregated Extracted Features\n",
    "\n",
    "The following block of code returns the extracted features aggregated with their respective data sets."
   ]
  },
  {
   "cell_type": "code",
   "execution_count": 4,
   "metadata": {},
   "outputs": [],
   "source": [
    "pickle.dump(SWCAll, open( \"DataSets/SWCFeatures/SWCFeat.p\", \"wb\" ) )\n",
    "pickle.dump(SQSAll, open( \"DataSets/SQSFeatures/SQSFeat.p\", \"wb\" ) )"
   ]
  }
 ],
 "metadata": {
  "kernelspec": {
   "display_name": "Python 3",
   "language": "python",
   "name": "python3"
  },
  "language_info": {
   "codemirror_mode": {
    "name": "ipython",
    "version": 3
   },
   "file_extension": ".py",
   "mimetype": "text/x-python",
   "name": "python",
   "nbconvert_exporter": "python",
   "pygments_lexer": "ipython3",
   "version": "3.7.9"
  }
 },
 "nbformat": 4,
 "nbformat_minor": 4
}
