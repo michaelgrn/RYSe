{
 "cells": [
  {
   "cell_type": "code",
   "execution_count": 1,
   "metadata": {},
   "outputs": [],
   "source": [
    "import pickle\n",
    "import numpy as np"
   ]
  },
  {
   "cell_type": "code",
   "execution_count": 2,
   "metadata": {},
   "outputs": [],
   "source": [
    "archComplete = pickle.load( open( \"DataSets/SWC/SWCA.p\", \"rb\" ) )\n",
    "notArchComplete = pickle.load( open( \"DataSets/SWC/SWCNA.p\", \"rb\" ) )"
   ]
  },
  {
   "cell_type": "code",
   "execution_count": 3,
   "metadata": {},
   "outputs": [
    {
     "data": {
      "text/plain": [
       "31920"
      ]
     },
     "execution_count": 3,
     "metadata": {},
     "output_type": "execute_result"
    }
   ],
   "source": [
    "len(notArchComplete)"
   ]
  },
  {
   "cell_type": "code",
   "execution_count": 4,
   "metadata": {},
   "outputs": [
    {
     "data": {
      "text/plain": [
       "7980"
      ]
     },
     "execution_count": 4,
     "metadata": {},
     "output_type": "execute_result"
    }
   ],
   "source": [
    "len(archComplete)"
   ]
  },
  {
   "cell_type": "code",
   "execution_count": 24,
   "metadata": {},
   "outputs": [],
   "source": [
    "def printStats(dataSet):\n",
    "    numQueries = []\n",
    "    numClicks = []\n",
    "    lenQueriesWords = []\n",
    "    lenQueriesTokens = []\n",
    "    uniqueQueries = []\n",
    "    for session in dataSet:\n",
    "        numQ = 0\n",
    "        numC = 0\n",
    "        wordCount = []\n",
    "        tokenCount = []\n",
    "        currentQuery = session[0][1]\n",
    "        first = True\n",
    "        for query in session:\n",
    "            if query[1] not in uniqueQueries:\n",
    "                uniqueQueries.append(query[1])\n",
    "            if first and query[1] == currentQuery and (query[3]):\n",
    "                numQ += 1\n",
    "                numC += 1\n",
    "                tokenCount.append(len(query[1]))\n",
    "                wordCount.append(len(query[1].split()))\n",
    "                #print('here')\n",
    "            elif first and query[1] == currentQuery and not (query[3]):\n",
    "                numQ += 1\n",
    "                tokenCount.append(len(query[1]))\n",
    "                wordCount.append(len(query[1].split()))\n",
    "                #print('here')\n",
    "            ##if the query is not the same \n",
    "            elif query[1] != currentQuery and (query[3]):\n",
    "                numQ += 1\n",
    "                numC += 1\n",
    "                tokenCount.append(len(query[1]))\n",
    "                wordCount.append(len(query[1].split()))\n",
    "\n",
    "            elif query[1] != currentQuery and not (query[3]):\n",
    "                numQ += 1\n",
    "                tokenCount.append(len(query[1]))\n",
    "                wordCount.append(len(query[1].split()))\n",
    "            # and has a click\n",
    "            # and doesn't have a click\n",
    "            ##if the query is the same \n",
    "            elif query[1] == currentQuery and (query[3]):\n",
    "                numC += 1\n",
    "            elif query[1] == currentQuery and not (query[3]):\n",
    "                numQ += 1\n",
    "                tokenCount.append(len(query[1]))\n",
    "                wordCount.append(len(query[1].split()))\n",
    "            currentQuery = query[1]\n",
    "            first = False\n",
    "            #print(query)\n",
    "        wordCount = np.array(wordCount)\n",
    "        tokenCount = np.array(tokenCount)\n",
    "        for entry in wordCount:\n",
    "            #print(entry)\n",
    "            pass\n",
    "        if wordCount.mean() != wordCount.mean():\n",
    "            print(session)\n",
    "            pass\n",
    "        lenQueriesWords.append(wordCount.mean())\n",
    "        lenQueriesTokens.append(tokenCount.mean())\n",
    "        numQueries.append(numQ)\n",
    "        numClicks.append(numC)\n",
    "    numQueries = np.array(numQueries)\n",
    "    print(\"Average number of queries per session: \" + str(numQueries.mean()))\n",
    "    uniqQueries = []\n",
    "    for session in dataSet:\n",
    "        for query in session:\n",
    "            if not (query[3]):\n",
    "                if query[1] not in uniqQueries:\n",
    "                    uniqQueries.append(query[1])\n",
    "    print(\"Percentage of unique queries: \" + str((len(uniqQueries)/numQueries.sum())))\n",
    "    numClicks = np.array(numClicks)\n",
    "    print(\"Average number of clicks per session: \" + str(numClicks.mean()))\n",
    "    \n",
    "    lenQueriesWords = np.array(lenQueriesWords)\n",
    "    avgNumWordsQuery = np.array(lenQueriesWords)\n",
    "    print(\"Average number of words per query: \" + str(avgNumWordsQuery.mean()))\n",
    "    \n",
    "    avgDuration = 0\n",
    "    for session in dataSet:\n",
    "        avgDuration += float((session[len(session)-1][2]))\n",
    "        \n",
    "    print(\"Average duration of session in minutes: \" + str((avgDuration/len(notArchComplete))/60))"
   ]
  },
  {
   "cell_type": "code",
   "execution_count": 27,
   "metadata": {},
   "outputs": [
    {
     "name": "stdout",
     "output_type": "stream",
     "text": [
      "Stats of Archetype sessions found in SWC\n",
      "Average number of queries per session: 2.0035087719298246\n",
      "Percentage of unique queries: 0.4700400300225169\n",
      "Average number of clicks per session: 2.305513784461153\n",
      "Average number of words per query: 2.3638233006120966\n",
      "Average duration of session in minutes: 0.9577678571428572\n"
     ]
    }
   ],
   "source": [
    "print(\"Stats of Archetype sessions found in SWC\")\n",
    "printStats(archComplete)"
   ]
  },
  {
   "cell_type": "code",
   "execution_count": 28,
   "metadata": {},
   "outputs": [
    {
     "name": "stdout",
     "output_type": "stream",
     "text": [
      "Stats of Non-Archetype sessions found in SWC\n",
      "Average number of queries per session: 3.2767857142857144\n",
      "Percentage of unique queries: 0.5959271475691955\n",
      "Average number of clicks per session: 2.857393483709273\n",
      "Average number of words per query: 2.333374436178727\n",
      "Average duration of session in minutes: 11.922532818412172\n"
     ]
    }
   ],
   "source": [
    "print(\"Stats of Non-Archetype sessions found in SWC\")\n",
    "printStats(notArchComplete)"
   ]
  },
  {
   "cell_type": "code",
   "execution_count": null,
   "metadata": {},
   "outputs": [],
   "source": []
  }
 ],
 "metadata": {
  "kernelspec": {
   "display_name": "Python 3",
   "language": "python",
   "name": "python3"
  },
  "language_info": {
   "codemirror_mode": {
    "name": "ipython",
    "version": 3
   },
   "file_extension": ".py",
   "mimetype": "text/x-python",
   "name": "python",
   "nbconvert_exporter": "python",
   "pygments_lexer": "ipython3",
   "version": "3.7.9"
  }
 },
 "nbformat": 4,
 "nbformat_minor": 4
}
