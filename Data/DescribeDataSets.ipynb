{
 "cells": [
  {
   "cell_type": "markdown",
   "metadata": {},
   "source": [
    "This notebook is intended to describe the key attributes of SWC and SQS"
   ]
  },
  {
   "cell_type": "markdown",
   "metadata": {},
   "source": [
    "# Load Libraries"
   ]
  },
  {
   "cell_type": "code",
   "execution_count": 30,
   "metadata": {},
   "outputs": [],
   "source": [
    "import pickle\n",
    "import numpy as np\n",
    "import pandas as pd"
   ]
  },
  {
   "cell_type": "markdown",
   "metadata": {},
   "source": [
    "# Load And Preprocess Data Sets\n",
    "\n",
    "Loads the data sets which we will describe and preprocess them to enable this description."
   ]
  },
  {
   "cell_type": "code",
   "execution_count": 31,
   "metadata": {},
   "outputs": [],
   "source": [
    "SWC = pickle.load( open( \"DataSets/SWC/SWC.p\", \"rb\" ) )\n",
    "SQS = pickle.load( open( \"DataSets/SQS/SQS.p\", \"rb\" ) )\n",
    "\n",
    "SWCS = SWC[SWC['class'] == 1].groupby('sID')[['sID','query', 'timestamp', 'click', 'website', 'type']].apply(pd.Series.tolist).tolist()\n",
    "SWCNS = SWC[SWC['class'] == 0].groupby('sID')[['sID','query', 'timestamp', 'click', 'website', 'type']].apply(pd.Series.tolist).tolist()\n",
    "SQSS = SQS[SQS['class'] == 1]['query'].tolist()\n",
    "SQSNS = SQS[SQS['class'] == 0]['query'].tolist()"
   ]
  },
  {
   "cell_type": "markdown",
   "metadata": {},
   "source": [
    "# Declare Functions\n",
    "\n",
    "In the following block of code we declare the functions used to describe the data sets."
   ]
  },
  {
   "cell_type": "code",
   "execution_count": 65,
   "metadata": {},
   "outputs": [],
   "source": [
    "def printStatsSWC(dataSet):\n",
    "   \n",
    "    \"\"\"\n",
    "\n",
    "    The primary complexity of printStatsSWC() lies in the representation of\n",
    "    queries and clicks in the AOL Query logs, which can be broken down into\n",
    "    a query with no clicks, a query with a click, and a query with multiple clicks.\n",
    "    :param dataSet: This function takes in SWC and describes it\n",
    "    \n",
    "    \"\"\"  \n",
    "    \n",
    "    numQueries = []\n",
    "    numClicks = []\n",
    "    lenQueriesWords = []\n",
    "    lenQueriesTokens = []\n",
    "    uniqueQueries = []\n",
    "    for session in dataSet:\n",
    "        numQ = 0\n",
    "        numC = 0\n",
    "        wordCount = []\n",
    "        tokenCount = []\n",
    "        currentQuery = session[0][1]\n",
    "        first = True\n",
    "        for query in session:\n",
    "            if query[1] not in uniqueQueries:\n",
    "                uniqueQueries.append(query[1])\n",
    "            if first and query[1] == currentQuery and (query[3]):\n",
    "                numQ += 1\n",
    "                numC += 1\n",
    "                tokenCount.append(len(query[1]))\n",
    "                wordCount.append(len(query[1].split()))\n",
    "            elif first and query[1] == currentQuery and not (query[3]):\n",
    "                numQ += 1\n",
    "                tokenCount.append(len(query[1]))\n",
    "                wordCount.append(len(query[1].split()))\n",
    "            elif query[1] != currentQuery and (query[3]):\n",
    "                numQ += 1\n",
    "                numC += 1\n",
    "                tokenCount.append(len(query[1]))\n",
    "                wordCount.append(len(query[1].split()))\n",
    "            elif query[1] != currentQuery and not (query[3]):\n",
    "                numQ += 1\n",
    "                tokenCount.append(len(query[1]))\n",
    "                wordCount.append(len(query[1].split()))\n",
    "            elif query[1] == currentQuery and (query[3]):\n",
    "                numC += 1\n",
    "            elif query[1] == currentQuery and not (query[3]):\n",
    "                numQ += 1\n",
    "                tokenCount.append(len(query[1]))\n",
    "                wordCount.append(len(query[1].split()))\n",
    "            currentQuery = query[1]\n",
    "            first = False\n",
    "        wordCount = np.array(wordCount)\n",
    "        tokenCount = np.array(tokenCount)\n",
    "        for entry in wordCount:\n",
    "            pass\n",
    "        if wordCount.mean() != wordCount.mean():\n",
    "            print(session)\n",
    "            pass\n",
    "        lenQueriesWords.append(wordCount.mean())\n",
    "        lenQueriesTokens.append(tokenCount.mean())\n",
    "        numQueries.append(numQ)\n",
    "        numClicks.append(numC)\n",
    "    numQueries = np.array(numQueries)\n",
    "    \n",
    "    print(\"Average number of queries per session: \" + str(numQueries.mean()))\n",
    "    uniqQueries = []\n",
    "    for session in dataSet:\n",
    "        for query in session:\n",
    "            if not (query[3]):\n",
    "                if query[1] not in uniqQueries:\n",
    "                    uniqQueries.append(query[1])\n",
    "                    \n",
    "    print(\"Percentage of unique queries: \" + str((len(uniqQueries)/numQueries.sum())))\n",
    "    numClicks = np.array(numClicks)\n",
    "    \n",
    "    print(\"Average number of clicks per session: \" + str(numClicks.mean()))\n",
    "    \n",
    "    lenQueriesWords = np.array(lenQueriesWords)\n",
    "    avgNumWordsQuery = np.array(lenQueriesWords)\n",
    "    \n",
    "    print(\"Average number of words per query: \" + str(avgNumWordsQuery.mean()))\n",
    "    \n",
    "    avgDuration = 0\n",
    "    for session in dataSet:\n",
    "        avgDuration += float((session[len(session)-1][2]))\n",
    "        \n",
    "    print(\"Average duration of session in minutes: \" + str((avgDuration/len(dataSet))/60))\n",
    "\n",
    "    \n",
    "def printStatsSQS(dataSet):\n",
    "    \n",
    "    \"\"\"\n",
    "    \n",
    "    Specifically for SQS, as this dataset has no clicks, single queries, no duration.\n",
    "    \n",
    "    :param dataSet: This function takes in SQS and describes it\n",
    "    \n",
    "    \"\"\" \n",
    "    \n",
    "    numQueries = 0\n",
    "    wordCount = []\n",
    "    uniqueQueries = []\n",
    "    for session in dataSet:\n",
    "        numQueries +=1\n",
    "        wordCount.append(len(session.split()))\n",
    "        if session not in uniqueQueries:\n",
    "                uniqueQueries.append(session)\n",
    "    wordCount = np.array(wordCount)\n",
    "    print(\"Average number of queries per session: \" + str(1))\n",
    "    print(\"Percentage of unique queries: \" + str((len(uniqueQueries)/numQueries)))\n",
    "    print(\"Average number of clicks per session: \" + str(0))\n",
    "    print(\"Average number of words per query: \" + str(wordCount.mean()))\n",
    "    print(\"Average duration of session in minutes: \" + str(0))"
   ]
  },
  {
   "cell_type": "markdown",
   "metadata": {},
   "source": [
    "# Describe Data Sets\n",
    "\n",
    "In the following blocks of code we use the defined functions to describe our data sets."
   ]
  },
  {
   "cell_type": "code",
   "execution_count": 44,
   "metadata": {},
   "outputs": [
    {
     "name": "stdout",
     "output_type": "stream",
     "text": [
      "Stats of Stereotype sessions found in SWC\n",
      "Average number of queries per session: 1.9906733103360164\n",
      "Percentage of unique queries: 0.4801360631538412\n",
      "Average number of clicks per session: 2.305225501469273\n",
      "Average number of words per query: 2.3981486972959964\n",
      "Average duration of session in minutes: 3.7958051190324094\n"
     ]
    }
   ],
   "source": [
    "print(\"Stats of Stereotype sessions found in SWC\")\n",
    "printStatsSWC(SWCS)"
   ]
  },
  {
   "cell_type": "code",
   "execution_count": 45,
   "metadata": {},
   "outputs": [
    {
     "name": "stdout",
     "output_type": "stream",
     "text": [
      "Stats of Non-Stereotype sessions found in SWC\n",
      "Average number of queries per session: 3.303497125432773\n",
      "Percentage of unique queries: 0.6074670204992115\n",
      "Average number of clicks per session: 2.9309786233840485\n",
      "Average number of words per query: 2.3558116717514674\n",
      "Average duration of session in minutes: 12.067323810680362\n"
     ]
    }
   ],
   "source": [
    "print(\"Stats of Non-Stereotype sessions found in SWC\")\n",
    "printStatsSWC(SWCNS)"
   ]
  },
  {
   "cell_type": "code",
   "execution_count": 66,
   "metadata": {},
   "outputs": [
    {
     "name": "stdout",
     "output_type": "stream",
     "text": [
      "Stats of Stereotype sessions found in SQS\n",
      "Average number of queries per session: 1\n",
      "Percentage of unique queries: 0.9767441860465116\n",
      "Average number of clicks per session: 0\n",
      "Average number of words per query: 4.777408637873754\n",
      "Average duration of session in minutes: 0\n"
     ]
    }
   ],
   "source": [
    "print(\"Stats of Stereotype sessions found in SQS\")\n",
    "printStatsSQS(SQSS)"
   ]
  },
  {
   "cell_type": "code",
   "execution_count": 67,
   "metadata": {},
   "outputs": [
    {
     "name": "stdout",
     "output_type": "stream",
     "text": [
      "Stats of Non-Stereotype sessions found in SQS\n",
      "Average number of queries per session: 1\n",
      "Percentage of unique queries: 1.0\n",
      "Average number of clicks per session: 0\n",
      "Average number of words per query: 3.722591362126246\n",
      "Average duration of session in minutes: 0\n"
     ]
    }
   ],
   "source": [
    "print(\"Stats of Non-Stereotype sessions found in SQS\")\n",
    "printStatsSQS(SQSNS)"
   ]
  }
 ],
 "metadata": {
  "kernelspec": {
   "display_name": "Python 3",
   "language": "python",
   "name": "python3"
  },
  "language_info": {
   "codemirror_mode": {
    "name": "ipython",
    "version": 3
   },
   "file_extension": ".py",
   "mimetype": "text/x-python",
   "name": "python",
   "nbconvert_exporter": "python",
   "pygments_lexer": "ipython3",
   "version": "3.7.9"
  }
 },
 "nbformat": 4,
 "nbformat_minor": 4
}
