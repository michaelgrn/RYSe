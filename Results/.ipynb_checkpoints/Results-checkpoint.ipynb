{
 "cells": [
  {
   "cell_type": "code",
   "execution_count": 1,
   "metadata": {},
   "outputs": [],
   "source": [
    "import pandas as pd\n",
    "import pickle"
   ]
  },
  {
   "cell_type": "markdown",
   "metadata": {},
   "source": [
    "# Results"
   ]
  },
  {
   "cell_type": "code",
   "execution_count": 2,
   "metadata": {},
   "outputs": [],
   "source": [
    "ablSWC = pickle.load( open( \"../Experiments/Pickles/AblationSWC.p\", \"rb\" ) )\n",
    "ablSQS = pickle.load( open( \"../Experiments/Pickles/AblationSQS.p\", \"rb\" ) )\n",
    "baseSWC = pickle.load( open( \"../Experiments/Pickles/BaselineSWC.p\", \"rb\" ) )\n",
    "baseSQS = pickle.load( open( \"../Experiments/Pickles/BaselineSQS.p\", \"rb\" ) )\n",
    "ABQRYSe = pickle.load( open(\"../Experiments/Pickles/AccByQueryCount.p\",\"rb\"))\n",
    "ABQBaseline = pickle.load( open(\"../Experiments/Pickles/OutputMultiModelSWCAccByQ.p\",\"rb\"))"
   ]
  },
  {
   "cell_type": "code",
   "execution_count": 30,
   "metadata": {},
   "outputs": [
    {
     "data": {
      "text/plain": [
       "1323.8"
      ]
     },
     "execution_count": 30,
     "metadata": {},
     "output_type": "execute_result"
    }
   ],
   "source": [
    "ABQBaseline\n",
    "ABQBaseline['TP'].sum() + ABQBaseline['FN'].sum()"
   ]
  },
  {
   "cell_type": "code",
   "execution_count": 29,
   "metadata": {},
   "outputs": [
    {
     "data": {
      "text/plain": [
       "1323.8"
      ]
     },
     "execution_count": 29,
     "metadata": {},
     "output_type": "execute_result"
    }
   ],
   "source": [
    "ABQRYSe['TP'].sum() + ABQRYSe['FN'].sum()"
   ]
  },
  {
   "cell_type": "code",
   "execution_count": 31,
   "metadata": {},
   "outputs": [
    {
     "data": {
      "text/html": [
       "<div>\n",
       "<style scoped>\n",
       "    .dataframe tbody tr th:only-of-type {\n",
       "        vertical-align: middle;\n",
       "    }\n",
       "\n",
       "    .dataframe tbody tr th {\n",
       "        vertical-align: top;\n",
       "    }\n",
       "\n",
       "    .dataframe thead th {\n",
       "        text-align: right;\n",
       "    }\n",
       "</style>\n",
       "<table border=\"1\" class=\"dataframe\">\n",
       "  <thead>\n",
       "    <tr style=\"text-align: right;\">\n",
       "      <th></th>\n",
       "      <th>Type</th>\n",
       "      <th>Acc</th>\n",
       "      <th>TN</th>\n",
       "      <th>FP</th>\n",
       "      <th>TNR</th>\n",
       "      <th>FN</th>\n",
       "      <th>TP</th>\n",
       "      <th>TPR</th>\n",
       "      <th>Sig</th>\n",
       "    </tr>\n",
       "  </thead>\n",
       "  <tbody>\n",
       "    <tr>\n",
       "      <th>0</th>\n",
       "      <td>RYSe</td>\n",
       "      <td>0.952</td>\n",
       "      <td>5219.6</td>\n",
       "      <td>56.2</td>\n",
       "      <td>0.989</td>\n",
       "      <td>258.0</td>\n",
       "      <td>1065.8</td>\n",
       "      <td>0.805</td>\n",
       "      <td>False</td>\n",
       "    </tr>\n",
       "    <tr>\n",
       "      <th>0</th>\n",
       "      <td>Majority</td>\n",
       "      <td>0.799</td>\n",
       "      <td>5275.8</td>\n",
       "      <td>0.0</td>\n",
       "      <td>1.000</td>\n",
       "      <td>1323.8</td>\n",
       "      <td>0.0</td>\n",
       "      <td>0.000</td>\n",
       "      <td>True</td>\n",
       "    </tr>\n",
       "    <tr>\n",
       "      <th>1</th>\n",
       "      <td>Rule</td>\n",
       "      <td>0.903</td>\n",
       "      <td>5268.2</td>\n",
       "      <td>7.6</td>\n",
       "      <td>0.999</td>\n",
       "      <td>630.2</td>\n",
       "      <td>693.6</td>\n",
       "      <td>0.524</td>\n",
       "      <td>True</td>\n",
       "    </tr>\n",
       "    <tr>\n",
       "      <th>2</th>\n",
       "      <td>Text</td>\n",
       "      <td>0.856</td>\n",
       "      <td>5246.2</td>\n",
       "      <td>29.6</td>\n",
       "      <td>0.994</td>\n",
       "      <td>921.8</td>\n",
       "      <td>402.0</td>\n",
       "      <td>0.304</td>\n",
       "      <td>True</td>\n",
       "    </tr>\n",
       "    <tr>\n",
       "      <th>3</th>\n",
       "      <td>MultiFeature</td>\n",
       "      <td>0.916</td>\n",
       "      <td>4972.6</td>\n",
       "      <td>303.2</td>\n",
       "      <td>0.943</td>\n",
       "      <td>248.4</td>\n",
       "      <td>1075.4</td>\n",
       "      <td>0.812</td>\n",
       "      <td>True</td>\n",
       "    </tr>\n",
       "    <tr>\n",
       "      <th>4</th>\n",
       "      <td>MultiModel</td>\n",
       "      <td>0.935</td>\n",
       "      <td>5222.4</td>\n",
       "      <td>53.4</td>\n",
       "      <td>0.990</td>\n",
       "      <td>372.6</td>\n",
       "      <td>951.2</td>\n",
       "      <td>0.719</td>\n",
       "      <td>True</td>\n",
       "    </tr>\n",
       "  </tbody>\n",
       "</table>\n",
       "</div>"
      ],
      "text/plain": [
       "           Type    Acc      TN     FP    TNR      FN      TP    TPR    Sig\n",
       "0          RYSe  0.952  5219.6   56.2  0.989   258.0  1065.8  0.805  False\n",
       "0      Majority  0.799  5275.8    0.0  1.000  1323.8     0.0  0.000   True\n",
       "1          Rule  0.903  5268.2    7.6  0.999   630.2   693.6  0.524   True\n",
       "2          Text  0.856  5246.2   29.6  0.994   921.8   402.0  0.304   True\n",
       "3  MultiFeature  0.916  4972.6  303.2  0.943   248.4  1075.4  0.812   True\n",
       "4    MultiModel  0.935  5222.4   53.4  0.990   372.6   951.2  0.719   True"
      ]
     },
     "execution_count": 31,
     "metadata": {},
     "output_type": "execute_result"
    }
   ],
   "source": [
    "baseSWC"
   ]
  },
  {
   "cell_type": "markdown",
   "metadata": {},
   "source": [
    "# Significance Tests"
   ]
  },
  {
   "cell_type": "code",
   "execution_count": 4,
   "metadata": {},
   "outputs": [],
   "source": [
    "sigAblSWC = pickle.load( open( \"../Experiments/Pickles/SigAblationSWC.p\", \"rb\" ) )\n",
    "sigAblSQS = pickle.load( open( \"../Experiments/Pickles/SigAblationSQS.p\", \"rb\" ) )\n",
    "sigBaseSWC = pickle.load( open( \"../Experiments/Pickles/SigBaselineSWC.p\", \"rb\" ) )\n",
    "sigBaseSQS = pickle.load( open( \"../Experiments/Pickles/SigBaselineSQS.p\", \"rb\" ) )\n",
    "sigByQ = pickle.load( open( \"../Experiments/Pickles/SigByQ.p\", \"rb\" ) )"
   ]
  },
  {
   "cell_type": "code",
   "execution_count": 5,
   "metadata": {},
   "outputs": [],
   "source": [
    "ablSWC['Sig'] = sigAblSWC"
   ]
  },
  {
   "cell_type": "code",
   "execution_count": 6,
   "metadata": {},
   "outputs": [],
   "source": [
    "ablSQS['Sig'] = sigAblSQS"
   ]
  },
  {
   "cell_type": "code",
   "execution_count": 7,
   "metadata": {},
   "outputs": [],
   "source": [
    "baseSWC['Sig'] = sigBaseSWC"
   ]
  },
  {
   "cell_type": "code",
   "execution_count": 8,
   "metadata": {},
   "outputs": [],
   "source": [
    "baseSQS['Sig'] = sigBaseSQS"
   ]
  },
  {
   "cell_type": "code",
   "execution_count": 9,
   "metadata": {},
   "outputs": [],
   "source": [
    "ABQBaseline['Sig'] = sigByQ"
   ]
  },
  {
   "cell_type": "markdown",
   "metadata": {},
   "source": [
    "# Format Tables"
   ]
  },
  {
   "cell_type": "code",
   "execution_count": 10,
   "metadata": {},
   "outputs": [],
   "source": [
    "baseSWC = pd.concat([ablSWC[ablSWC['Type']=='RYSe'],baseSWC])"
   ]
  },
  {
   "cell_type": "code",
   "execution_count": 11,
   "metadata": {},
   "outputs": [],
   "source": [
    "baseSQS = pd.concat([ablSQS[ablSQS['Type']=='RYSe'],baseSQS])"
   ]
  },
  {
   "cell_type": "code",
   "execution_count": 19,
   "metadata": {},
   "outputs": [],
   "source": [
    "ablSWCTrimmed = ablSWC[['Type','Acc', 'TNR', 'TPR', 'Sig'] ]\n",
    "ablSQSTrimmed = ablSQS[['Type','Acc', 'TNR', 'TPR', 'Sig'] ]\n",
    "baseSWCTrimmed = baseSWC[['Type','Acc', 'TNR', 'TPR', 'Sig'] ]\n",
    "baseSQSTrimmed = baseSQS[['Type','Acc', 'TNR', 'TPR', 'Sig'] ]\n",
    "ABQRYSeTrimmed = ABQRYSe[['Acc', 'TNR', 'TPR' ]]\n",
    "ABQBaselineTrimmed = ABQBaseline[['Acc', 'TNR', 'TPR', 'Sig']]"
   ]
  },
  {
   "cell_type": "code",
   "execution_count": 20,
   "metadata": {},
   "outputs": [],
   "source": [
    "ablSWCTrimmed.set_index(\"Type\", inplace= True)\n",
    "ablSQSTrimmed.set_index(\"Type\", inplace= True)\n",
    "baseSWCTrimmed.set_index(\"Type\", inplace= True)\n",
    "baseSQSTrimmed.set_index(\"Type\", inplace= True)"
   ]
  },
  {
   "cell_type": "markdown",
   "metadata": {},
   "source": [
    "# Experiment Results"
   ]
  },
  {
   "cell_type": "code",
   "execution_count": 21,
   "metadata": {},
   "outputs": [
    {
     "data": {
      "text/html": [
       "<div>\n",
       "<style scoped>\n",
       "    .dataframe tbody tr th:only-of-type {\n",
       "        vertical-align: middle;\n",
       "    }\n",
       "\n",
       "    .dataframe tbody tr th {\n",
       "        vertical-align: top;\n",
       "    }\n",
       "\n",
       "    .dataframe thead th {\n",
       "        text-align: right;\n",
       "    }\n",
       "</style>\n",
       "<table border=\"1\" class=\"dataframe\">\n",
       "  <thead>\n",
       "    <tr style=\"text-align: right;\">\n",
       "      <th></th>\n",
       "      <th>Acc</th>\n",
       "      <th>TNR</th>\n",
       "      <th>TPR</th>\n",
       "      <th>Sig</th>\n",
       "    </tr>\n",
       "    <tr>\n",
       "      <th>Type</th>\n",
       "      <th></th>\n",
       "      <th></th>\n",
       "      <th></th>\n",
       "      <th></th>\n",
       "    </tr>\n",
       "  </thead>\n",
       "  <tbody>\n",
       "    <tr>\n",
       "      <th>RYSe</th>\n",
       "      <td>0.952</td>\n",
       "      <td>0.989</td>\n",
       "      <td>0.805</td>\n",
       "      <td>False</td>\n",
       "    </tr>\n",
       "    <tr>\n",
       "      <th>P3</th>\n",
       "      <td>0.940</td>\n",
       "      <td>0.982</td>\n",
       "      <td>0.771</td>\n",
       "      <td>True</td>\n",
       "    </tr>\n",
       "    <tr>\n",
       "      <th>DC1</th>\n",
       "      <td>0.888</td>\n",
       "      <td>0.986</td>\n",
       "      <td>0.495</td>\n",
       "      <td>False</td>\n",
       "    </tr>\n",
       "    <tr>\n",
       "      <th>TextBased</th>\n",
       "      <td>0.937</td>\n",
       "      <td>0.984</td>\n",
       "      <td>0.748</td>\n",
       "      <td>False</td>\n",
       "    </tr>\n",
       "    <tr>\n",
       "      <th>SessionBased</th>\n",
       "      <td>0.857</td>\n",
       "      <td>0.928</td>\n",
       "      <td>0.575</td>\n",
       "      <td>True</td>\n",
       "    </tr>\n",
       "  </tbody>\n",
       "</table>\n",
       "</div>"
      ],
      "text/plain": [
       "                Acc    TNR    TPR    Sig\n",
       "Type                                    \n",
       "RYSe          0.952  0.989  0.805  False\n",
       "P3            0.940  0.982  0.771   True\n",
       "DC1           0.888  0.986  0.495  False\n",
       "TextBased     0.937  0.984  0.748  False\n",
       "SessionBased  0.857  0.928  0.575   True"
      ]
     },
     "execution_count": 21,
     "metadata": {},
     "output_type": "execute_result"
    }
   ],
   "source": [
    "ablSWCTrimmed"
   ]
  },
  {
   "cell_type": "code",
   "execution_count": 22,
   "metadata": {},
   "outputs": [
    {
     "data": {
      "text/html": [
       "<div>\n",
       "<style scoped>\n",
       "    .dataframe tbody tr th:only-of-type {\n",
       "        vertical-align: middle;\n",
       "    }\n",
       "\n",
       "    .dataframe tbody tr th {\n",
       "        vertical-align: top;\n",
       "    }\n",
       "\n",
       "    .dataframe thead th {\n",
       "        text-align: right;\n",
       "    }\n",
       "</style>\n",
       "<table border=\"1\" class=\"dataframe\">\n",
       "  <thead>\n",
       "    <tr style=\"text-align: right;\">\n",
       "      <th></th>\n",
       "      <th>Acc</th>\n",
       "      <th>TNR</th>\n",
       "      <th>TPR</th>\n",
       "      <th>Sig</th>\n",
       "    </tr>\n",
       "    <tr>\n",
       "      <th>Type</th>\n",
       "      <th></th>\n",
       "      <th></th>\n",
       "      <th></th>\n",
       "      <th></th>\n",
       "    </tr>\n",
       "  </thead>\n",
       "  <tbody>\n",
       "    <tr>\n",
       "      <th>RYSe</th>\n",
       "      <td>0.879</td>\n",
       "      <td>0.996</td>\n",
       "      <td>0.410</td>\n",
       "      <td>False</td>\n",
       "    </tr>\n",
       "    <tr>\n",
       "      <th>P3</th>\n",
       "      <td>0.814</td>\n",
       "      <td>0.996</td>\n",
       "      <td>0.092</td>\n",
       "      <td>True</td>\n",
       "    </tr>\n",
       "    <tr>\n",
       "      <th>DC1</th>\n",
       "      <td>0.835</td>\n",
       "      <td>0.991</td>\n",
       "      <td>0.212</td>\n",
       "      <td>True</td>\n",
       "    </tr>\n",
       "    <tr>\n",
       "      <th>TextBased</th>\n",
       "      <td>0.823</td>\n",
       "      <td>0.996</td>\n",
       "      <td>0.133</td>\n",
       "      <td>True</td>\n",
       "    </tr>\n",
       "    <tr>\n",
       "      <th>SessionBased</th>\n",
       "      <td>0.799</td>\n",
       "      <td>1.000</td>\n",
       "      <td>0.000</td>\n",
       "      <td>True</td>\n",
       "    </tr>\n",
       "  </tbody>\n",
       "</table>\n",
       "</div>"
      ],
      "text/plain": [
       "                Acc    TNR    TPR    Sig\n",
       "Type                                    \n",
       "RYSe          0.879  0.996  0.410  False\n",
       "P3            0.814  0.996  0.092   True\n",
       "DC1           0.835  0.991  0.212   True\n",
       "TextBased     0.823  0.996  0.133   True\n",
       "SessionBased  0.799  1.000  0.000   True"
      ]
     },
     "execution_count": 22,
     "metadata": {},
     "output_type": "execute_result"
    }
   ],
   "source": [
    "ablSQSTrimmed"
   ]
  },
  {
   "cell_type": "code",
   "execution_count": 23,
   "metadata": {},
   "outputs": [
    {
     "data": {
      "text/html": [
       "<div>\n",
       "<style scoped>\n",
       "    .dataframe tbody tr th:only-of-type {\n",
       "        vertical-align: middle;\n",
       "    }\n",
       "\n",
       "    .dataframe tbody tr th {\n",
       "        vertical-align: top;\n",
       "    }\n",
       "\n",
       "    .dataframe thead th {\n",
       "        text-align: right;\n",
       "    }\n",
       "</style>\n",
       "<table border=\"1\" class=\"dataframe\">\n",
       "  <thead>\n",
       "    <tr style=\"text-align: right;\">\n",
       "      <th></th>\n",
       "      <th>Acc</th>\n",
       "      <th>TNR</th>\n",
       "      <th>TPR</th>\n",
       "      <th>Sig</th>\n",
       "    </tr>\n",
       "    <tr>\n",
       "      <th>Type</th>\n",
       "      <th></th>\n",
       "      <th></th>\n",
       "      <th></th>\n",
       "      <th></th>\n",
       "    </tr>\n",
       "  </thead>\n",
       "  <tbody>\n",
       "    <tr>\n",
       "      <th>RYSe</th>\n",
       "      <td>0.952</td>\n",
       "      <td>0.989</td>\n",
       "      <td>0.805</td>\n",
       "      <td>False</td>\n",
       "    </tr>\n",
       "    <tr>\n",
       "      <th>Majority</th>\n",
       "      <td>0.799</td>\n",
       "      <td>1.000</td>\n",
       "      <td>0.000</td>\n",
       "      <td>True</td>\n",
       "    </tr>\n",
       "    <tr>\n",
       "      <th>Rule</th>\n",
       "      <td>0.903</td>\n",
       "      <td>0.999</td>\n",
       "      <td>0.524</td>\n",
       "      <td>True</td>\n",
       "    </tr>\n",
       "    <tr>\n",
       "      <th>Text</th>\n",
       "      <td>0.856</td>\n",
       "      <td>0.994</td>\n",
       "      <td>0.304</td>\n",
       "      <td>True</td>\n",
       "    </tr>\n",
       "    <tr>\n",
       "      <th>MultiFeature</th>\n",
       "      <td>0.916</td>\n",
       "      <td>0.943</td>\n",
       "      <td>0.812</td>\n",
       "      <td>True</td>\n",
       "    </tr>\n",
       "    <tr>\n",
       "      <th>MultiModel</th>\n",
       "      <td>0.935</td>\n",
       "      <td>0.990</td>\n",
       "      <td>0.719</td>\n",
       "      <td>True</td>\n",
       "    </tr>\n",
       "  </tbody>\n",
       "</table>\n",
       "</div>"
      ],
      "text/plain": [
       "                Acc    TNR    TPR    Sig\n",
       "Type                                    \n",
       "RYSe          0.952  0.989  0.805  False\n",
       "Majority      0.799  1.000  0.000   True\n",
       "Rule          0.903  0.999  0.524   True\n",
       "Text          0.856  0.994  0.304   True\n",
       "MultiFeature  0.916  0.943  0.812   True\n",
       "MultiModel    0.935  0.990  0.719   True"
      ]
     },
     "execution_count": 23,
     "metadata": {},
     "output_type": "execute_result"
    }
   ],
   "source": [
    "baseSWCTrimmed"
   ]
  },
  {
   "cell_type": "code",
   "execution_count": 24,
   "metadata": {},
   "outputs": [
    {
     "data": {
      "text/html": [
       "<div>\n",
       "<style scoped>\n",
       "    .dataframe tbody tr th:only-of-type {\n",
       "        vertical-align: middle;\n",
       "    }\n",
       "\n",
       "    .dataframe tbody tr th {\n",
       "        vertical-align: top;\n",
       "    }\n",
       "\n",
       "    .dataframe thead th {\n",
       "        text-align: right;\n",
       "    }\n",
       "</style>\n",
       "<table border=\"1\" class=\"dataframe\">\n",
       "  <thead>\n",
       "    <tr style=\"text-align: right;\">\n",
       "      <th></th>\n",
       "      <th>Acc</th>\n",
       "      <th>TNR</th>\n",
       "      <th>TPR</th>\n",
       "      <th>Sig</th>\n",
       "    </tr>\n",
       "    <tr>\n",
       "      <th>Type</th>\n",
       "      <th></th>\n",
       "      <th></th>\n",
       "      <th></th>\n",
       "      <th></th>\n",
       "    </tr>\n",
       "  </thead>\n",
       "  <tbody>\n",
       "    <tr>\n",
       "      <th>RYSe</th>\n",
       "      <td>0.879</td>\n",
       "      <td>0.996</td>\n",
       "      <td>0.410</td>\n",
       "      <td>False</td>\n",
       "    </tr>\n",
       "    <tr>\n",
       "      <th>Majority</th>\n",
       "      <td>0.800</td>\n",
       "      <td>1.000</td>\n",
       "      <td>0.000</td>\n",
       "      <td>True</td>\n",
       "    </tr>\n",
       "    <tr>\n",
       "      <th>Rule</th>\n",
       "      <td>0.800</td>\n",
       "      <td>1.000</td>\n",
       "      <td>0.000</td>\n",
       "      <td>True</td>\n",
       "    </tr>\n",
       "    <tr>\n",
       "      <th>Text</th>\n",
       "      <td>0.808</td>\n",
       "      <td>1.000</td>\n",
       "      <td>0.044</td>\n",
       "      <td>True</td>\n",
       "    </tr>\n",
       "    <tr>\n",
       "      <th>MultiFeature</th>\n",
       "      <td>0.832</td>\n",
       "      <td>0.992</td>\n",
       "      <td>0.191</td>\n",
       "      <td>True</td>\n",
       "    </tr>\n",
       "    <tr>\n",
       "      <th>MultiModel</th>\n",
       "      <td>0.834</td>\n",
       "      <td>0.998</td>\n",
       "      <td>0.176</td>\n",
       "      <td>True</td>\n",
       "    </tr>\n",
       "  </tbody>\n",
       "</table>\n",
       "</div>"
      ],
      "text/plain": [
       "                Acc    TNR    TPR    Sig\n",
       "Type                                    \n",
       "RYSe          0.879  0.996  0.410  False\n",
       "Majority      0.800  1.000  0.000   True\n",
       "Rule          0.800  1.000  0.000   True\n",
       "Text          0.808  1.000  0.044   True\n",
       "MultiFeature  0.832  0.992  0.191   True\n",
       "MultiModel    0.834  0.998  0.176   True"
      ]
     },
     "execution_count": 24,
     "metadata": {},
     "output_type": "execute_result"
    }
   ],
   "source": [
    "baseSQSTrimmed"
   ]
  },
  {
   "cell_type": "code",
   "execution_count": 25,
   "metadata": {},
   "outputs": [
    {
     "data": {
      "text/html": [
       "<div>\n",
       "<style scoped>\n",
       "    .dataframe tbody tr th:only-of-type {\n",
       "        vertical-align: middle;\n",
       "    }\n",
       "\n",
       "    .dataframe tbody tr th {\n",
       "        vertical-align: top;\n",
       "    }\n",
       "\n",
       "    .dataframe thead th {\n",
       "        text-align: right;\n",
       "    }\n",
       "</style>\n",
       "<table border=\"1\" class=\"dataframe\">\n",
       "  <thead>\n",
       "    <tr style=\"text-align: right;\">\n",
       "      <th></th>\n",
       "      <th>Acc</th>\n",
       "      <th>TNR</th>\n",
       "      <th>TPR</th>\n",
       "    </tr>\n",
       "    <tr>\n",
       "      <th>numQ</th>\n",
       "      <th></th>\n",
       "      <th></th>\n",
       "      <th></th>\n",
       "    </tr>\n",
       "  </thead>\n",
       "  <tbody>\n",
       "    <tr>\n",
       "      <th>1</th>\n",
       "      <td>0.950580</td>\n",
       "      <td>0.985</td>\n",
       "      <td>0.854</td>\n",
       "    </tr>\n",
       "    <tr>\n",
       "      <th>2</th>\n",
       "      <td>0.940351</td>\n",
       "      <td>0.987</td>\n",
       "      <td>0.789</td>\n",
       "    </tr>\n",
       "    <tr>\n",
       "      <th>3</th>\n",
       "      <td>0.951205</td>\n",
       "      <td>0.992</td>\n",
       "      <td>0.760</td>\n",
       "    </tr>\n",
       "    <tr>\n",
       "      <th>4</th>\n",
       "      <td>0.950471</td>\n",
       "      <td>0.994</td>\n",
       "      <td>0.670</td>\n",
       "    </tr>\n",
       "    <tr>\n",
       "      <th>5</th>\n",
       "      <td>0.956534</td>\n",
       "      <td>0.996</td>\n",
       "      <td>0.647</td>\n",
       "    </tr>\n",
       "    <tr>\n",
       "      <th>6+</th>\n",
       "      <td>0.978321</td>\n",
       "      <td>0.997</td>\n",
       "      <td>0.616</td>\n",
       "    </tr>\n",
       "  </tbody>\n",
       "</table>\n",
       "</div>"
      ],
      "text/plain": [
       "           Acc    TNR    TPR\n",
       "numQ                        \n",
       "1     0.950580  0.985  0.854\n",
       "2     0.940351  0.987  0.789\n",
       "3     0.951205  0.992  0.760\n",
       "4     0.950471  0.994  0.670\n",
       "5     0.956534  0.996  0.647\n",
       "6+    0.978321  0.997  0.616"
      ]
     },
     "execution_count": 25,
     "metadata": {},
     "output_type": "execute_result"
    }
   ],
   "source": [
    "ABQRYSeTrimmed"
   ]
  },
  {
   "cell_type": "code",
   "execution_count": 27,
   "metadata": {},
   "outputs": [
    {
     "data": {
      "text/html": [
       "<div>\n",
       "<style scoped>\n",
       "    .dataframe tbody tr th:only-of-type {\n",
       "        vertical-align: middle;\n",
       "    }\n",
       "\n",
       "    .dataframe tbody tr th {\n",
       "        vertical-align: top;\n",
       "    }\n",
       "\n",
       "    .dataframe thead th {\n",
       "        text-align: right;\n",
       "    }\n",
       "</style>\n",
       "<table border=\"1\" class=\"dataframe\">\n",
       "  <thead>\n",
       "    <tr style=\"text-align: right;\">\n",
       "      <th></th>\n",
       "      <th>Acc</th>\n",
       "      <th>TNR</th>\n",
       "      <th>TPR</th>\n",
       "      <th>Sig</th>\n",
       "    </tr>\n",
       "    <tr>\n",
       "      <th>numQ</th>\n",
       "      <th></th>\n",
       "      <th></th>\n",
       "      <th></th>\n",
       "      <th></th>\n",
       "    </tr>\n",
       "  </thead>\n",
       "  <tbody>\n",
       "    <tr>\n",
       "      <th>1</th>\n",
       "      <td>0.942348</td>\n",
       "      <td>0.982</td>\n",
       "      <td>0.829</td>\n",
       "      <td>False</td>\n",
       "    </tr>\n",
       "    <tr>\n",
       "      <th>2</th>\n",
       "      <td>0.921386</td>\n",
       "      <td>0.956</td>\n",
       "      <td>0.807</td>\n",
       "      <td>True</td>\n",
       "    </tr>\n",
       "    <tr>\n",
       "      <th>3</th>\n",
       "      <td>0.913818</td>\n",
       "      <td>0.936</td>\n",
       "      <td>0.814</td>\n",
       "      <td>True</td>\n",
       "    </tr>\n",
       "    <tr>\n",
       "      <th>4</th>\n",
       "      <td>0.892020</td>\n",
       "      <td>0.918</td>\n",
       "      <td>0.727</td>\n",
       "      <td>True</td>\n",
       "    </tr>\n",
       "    <tr>\n",
       "      <th>5</th>\n",
       "      <td>0.899085</td>\n",
       "      <td>0.911</td>\n",
       "      <td>0.807</td>\n",
       "      <td>True</td>\n",
       "    </tr>\n",
       "    <tr>\n",
       "      <th>6+</th>\n",
       "      <td>0.849900</td>\n",
       "      <td>0.857</td>\n",
       "      <td>0.713</td>\n",
       "      <td>True</td>\n",
       "    </tr>\n",
       "  </tbody>\n",
       "</table>\n",
       "</div>"
      ],
      "text/plain": [
       "           Acc    TNR    TPR    Sig\n",
       "numQ                               \n",
       "1     0.942348  0.982  0.829  False\n",
       "2     0.921386  0.956  0.807   True\n",
       "3     0.913818  0.936  0.814   True\n",
       "4     0.892020  0.918  0.727   True\n",
       "5     0.899085  0.911  0.807   True\n",
       "6+    0.849900  0.857  0.713   True"
      ]
     },
     "execution_count": 27,
     "metadata": {},
     "output_type": "execute_result"
    }
   ],
   "source": [
    "ABQBaselineTrimmed"
   ]
  },
  {
   "cell_type": "code",
   "execution_count": null,
   "metadata": {},
   "outputs": [],
   "source": []
  }
 ],
 "metadata": {
  "kernelspec": {
   "display_name": "Python 3",
   "language": "python",
   "name": "python3"
  },
  "language_info": {
   "codemirror_mode": {
    "name": "ipython",
    "version": 3
   },
   "file_extension": ".py",
   "mimetype": "text/x-python",
   "name": "python",
   "nbconvert_exporter": "python",
   "pygments_lexer": "ipython3",
   "version": "3.7.9"
  }
 },
 "nbformat": 4,
 "nbformat_minor": 4
}
